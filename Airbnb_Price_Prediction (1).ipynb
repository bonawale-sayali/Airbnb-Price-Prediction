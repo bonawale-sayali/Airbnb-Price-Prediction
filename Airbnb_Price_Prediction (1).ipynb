{
  "nbformat": 4,
  "nbformat_minor": 0,
  "metadata": {
    "colab": {
      "provenance": []
    },
    "kernelspec": {
      "name": "python3",
      "display_name": "Python 3"
    },
    "language_info": {
      "name": "python"
    }
  },
  "cells": [
    {
      "cell_type": "markdown",
      "source": [
        "Import necessary python libraries"
      ],
      "metadata": {
        "id": "Y4j5EzuE9U8Z"
      }
    },
    {
      "cell_type": "code",
      "execution_count": null,
      "metadata": {
        "id": "sbiosnwm1U-r",
        "colab": {
          "base_uri": "https://localhost:8080/"
        },
        "outputId": "6faeff18-5632-49b6-d3cf-9d9a87ebadd5"
      },
      "outputs": [
        {
          "output_type": "stream",
          "name": "stdout",
          "text": [
            "Looking in indexes: https://pypi.org/simple, https://us-python.pkg.dev/colab-wheels/public/simple/\n",
            "Requirement already satisfied: altair in /usr/local/lib/python3.9/dist-packages (4.2.2)\n",
            "Requirement already satisfied: vega_datasets in /usr/local/lib/python3.9/dist-packages (0.9.0)\n",
            "Requirement already satisfied: pandas>=0.18 in /usr/local/lib/python3.9/dist-packages (from altair) (1.4.4)\n",
            "Requirement already satisfied: entrypoints in /usr/local/lib/python3.9/dist-packages (from altair) (0.4)\n",
            "Requirement already satisfied: jsonschema>=3.0 in /usr/local/lib/python3.9/dist-packages (from altair) (4.3.3)\n",
            "Requirement already satisfied: numpy in /usr/local/lib/python3.9/dist-packages (from altair) (1.22.4)\n",
            "Requirement already satisfied: toolz in /usr/local/lib/python3.9/dist-packages (from altair) (0.12.0)\n",
            "Requirement already satisfied: jinja2 in /usr/local/lib/python3.9/dist-packages (from altair) (3.1.2)\n",
            "Requirement already satisfied: pyrsistent!=0.17.0,!=0.17.1,!=0.17.2,>=0.14.0 in /usr/local/lib/python3.9/dist-packages (from jsonschema>=3.0->altair) (0.19.3)\n",
            "Requirement already satisfied: attrs>=17.4.0 in /usr/local/lib/python3.9/dist-packages (from jsonschema>=3.0->altair) (22.2.0)\n",
            "Requirement already satisfied: pytz>=2020.1 in /usr/local/lib/python3.9/dist-packages (from pandas>=0.18->altair) (2022.7.1)\n",
            "Requirement already satisfied: python-dateutil>=2.8.1 in /usr/local/lib/python3.9/dist-packages (from pandas>=0.18->altair) (2.8.2)\n",
            "Requirement already satisfied: MarkupSafe>=2.0 in /usr/local/lib/python3.9/dist-packages (from jinja2->altair) (2.1.2)\n",
            "Requirement already satisfied: six>=1.5 in /usr/local/lib/python3.9/dist-packages (from python-dateutil>=2.8.1->pandas>=0.18->altair) (1.15.0)\n",
            "Looking in indexes: https://pypi.org/simple, https://us-python.pkg.dev/colab-wheels/public/simple/\n",
            "Collecting ipython-autotime\n",
            "  Downloading ipython_autotime-0.3.1-py2.py3-none-any.whl (6.8 kB)\n",
            "Requirement already satisfied: ipython in /usr/local/lib/python3.9/dist-packages (from ipython-autotime) (7.9.0)\n",
            "Requirement already satisfied: decorator in /usr/local/lib/python3.9/dist-packages (from ipython->ipython-autotime) (4.4.2)\n",
            "Collecting jedi>=0.10\n",
            "  Downloading jedi-0.18.2-py2.py3-none-any.whl (1.6 MB)\n",
            "\u001b[2K     \u001b[90m━━━━━━━━━━━━━━━━━━━━━━━━━━━━━━━━━━━━━━━━\u001b[0m \u001b[32m1.6/1.6 MB\u001b[0m \u001b[31m26.2 MB/s\u001b[0m eta \u001b[36m0:00:00\u001b[0m\n",
            "\u001b[?25hRequirement already satisfied: pexpect in /usr/local/lib/python3.9/dist-packages (from ipython->ipython-autotime) (4.8.0)\n",
            "Requirement already satisfied: setuptools>=18.5 in /usr/local/lib/python3.9/dist-packages (from ipython->ipython-autotime) (63.4.3)\n",
            "Requirement already satisfied: pygments in /usr/local/lib/python3.9/dist-packages (from ipython->ipython-autotime) (2.6.1)\n",
            "Requirement already satisfied: pickleshare in /usr/local/lib/python3.9/dist-packages (from ipython->ipython-autotime) (0.7.5)\n",
            "Requirement already satisfied: backcall in /usr/local/lib/python3.9/dist-packages (from ipython->ipython-autotime) (0.2.0)\n",
            "Requirement already satisfied: traitlets>=4.2 in /usr/local/lib/python3.9/dist-packages (from ipython->ipython-autotime) (5.7.1)\n",
            "Requirement already satisfied: prompt-toolkit<2.1.0,>=2.0.0 in /usr/local/lib/python3.9/dist-packages (from ipython->ipython-autotime) (2.0.10)\n",
            "Requirement already satisfied: parso<0.9.0,>=0.8.0 in /usr/local/lib/python3.9/dist-packages (from jedi>=0.10->ipython->ipython-autotime) (0.8.3)\n",
            "Requirement already satisfied: wcwidth in /usr/local/lib/python3.9/dist-packages (from prompt-toolkit<2.1.0,>=2.0.0->ipython->ipython-autotime) (0.2.6)\n",
            "Requirement already satisfied: six>=1.9.0 in /usr/local/lib/python3.9/dist-packages (from prompt-toolkit<2.1.0,>=2.0.0->ipython->ipython-autotime) (1.15.0)\n",
            "Requirement already satisfied: ptyprocess>=0.5 in /usr/local/lib/python3.9/dist-packages (from pexpect->ipython->ipython-autotime) (0.7.0)\n",
            "Installing collected packages: jedi, ipython-autotime\n",
            "Successfully installed ipython-autotime-0.3.1 jedi-0.18.2\n",
            "Looking in indexes: https://pypi.org/simple, https://us-python.pkg.dev/colab-wheels/public/simple/\n",
            "Requirement already satisfied: ipywidgets in /usr/local/lib/python3.9/dist-packages (7.7.1)\n",
            "Requirement already satisfied: jupyterlab-widgets>=1.0.0 in /usr/local/lib/python3.9/dist-packages (from ipywidgets) (3.0.5)\n",
            "Requirement already satisfied: widgetsnbextension~=3.6.0 in /usr/local/lib/python3.9/dist-packages (from ipywidgets) (3.6.2)\n",
            "Requirement already satisfied: ipython-genutils~=0.2.0 in /usr/local/lib/python3.9/dist-packages (from ipywidgets) (0.2.0)\n",
            "Requirement already satisfied: traitlets>=4.3.1 in /usr/local/lib/python3.9/dist-packages (from ipywidgets) (5.7.1)\n",
            "Requirement already satisfied: ipython>=4.0.0 in /usr/local/lib/python3.9/dist-packages (from ipywidgets) (7.9.0)\n",
            "Requirement already satisfied: ipykernel>=4.5.1 in /usr/local/lib/python3.9/dist-packages (from ipywidgets) (5.3.4)\n",
            "Requirement already satisfied: tornado>=4.2 in /usr/local/lib/python3.9/dist-packages (from ipykernel>=4.5.1->ipywidgets) (6.2)\n",
            "Requirement already satisfied: jupyter-client in /usr/local/lib/python3.9/dist-packages (from ipykernel>=4.5.1->ipywidgets) (6.1.12)\n",
            "Requirement already satisfied: jedi>=0.10 in /usr/local/lib/python3.9/dist-packages (from ipython>=4.0.0->ipywidgets) (0.18.2)\n",
            "Requirement already satisfied: setuptools>=18.5 in /usr/local/lib/python3.9/dist-packages (from ipython>=4.0.0->ipywidgets) (63.4.3)\n",
            "Requirement already satisfied: pickleshare in /usr/local/lib/python3.9/dist-packages (from ipython>=4.0.0->ipywidgets) (0.7.5)\n",
            "Requirement already satisfied: decorator in /usr/local/lib/python3.9/dist-packages (from ipython>=4.0.0->ipywidgets) (4.4.2)\n",
            "Requirement already satisfied: backcall in /usr/local/lib/python3.9/dist-packages (from ipython>=4.0.0->ipywidgets) (0.2.0)\n",
            "Requirement already satisfied: prompt-toolkit<2.1.0,>=2.0.0 in /usr/local/lib/python3.9/dist-packages (from ipython>=4.0.0->ipywidgets) (2.0.10)\n",
            "Requirement already satisfied: pygments in /usr/local/lib/python3.9/dist-packages (from ipython>=4.0.0->ipywidgets) (2.6.1)\n",
            "Requirement already satisfied: pexpect in /usr/local/lib/python3.9/dist-packages (from ipython>=4.0.0->ipywidgets) (4.8.0)\n",
            "Requirement already satisfied: notebook>=4.4.1 in /usr/local/lib/python3.9/dist-packages (from widgetsnbextension~=3.6.0->ipywidgets) (6.5.3)\n",
            "Requirement already satisfied: parso<0.9.0,>=0.8.0 in /usr/local/lib/python3.9/dist-packages (from jedi>=0.10->ipython>=4.0.0->ipywidgets) (0.8.3)\n",
            "Requirement already satisfied: prometheus-client in /usr/local/lib/python3.9/dist-packages (from notebook>=4.4.1->widgetsnbextension~=3.6.0->ipywidgets) (0.16.0)\n",
            "Requirement already satisfied: nest-asyncio>=1.5 in /usr/local/lib/python3.9/dist-packages (from notebook>=4.4.1->widgetsnbextension~=3.6.0->ipywidgets) (1.5.6)\n",
            "Requirement already satisfied: nbconvert>=5 in /usr/local/lib/python3.9/dist-packages (from notebook>=4.4.1->widgetsnbextension~=3.6.0->ipywidgets) (6.5.4)\n",
            "Requirement already satisfied: terminado>=0.8.3 in /usr/local/lib/python3.9/dist-packages (from notebook>=4.4.1->widgetsnbextension~=3.6.0->ipywidgets) (0.17.1)\n",
            "Requirement already satisfied: Send2Trash>=1.8.0 in /usr/local/lib/python3.9/dist-packages (from notebook>=4.4.1->widgetsnbextension~=3.6.0->ipywidgets) (1.8.0)\n",
            "Requirement already satisfied: jinja2 in /usr/local/lib/python3.9/dist-packages (from notebook>=4.4.1->widgetsnbextension~=3.6.0->ipywidgets) (3.1.2)\n",
            "Requirement already satisfied: nbclassic>=0.4.7 in /usr/local/lib/python3.9/dist-packages (from notebook>=4.4.1->widgetsnbextension~=3.6.0->ipywidgets) (0.5.3)\n",
            "Requirement already satisfied: argon2-cffi in /usr/local/lib/python3.9/dist-packages (from notebook>=4.4.1->widgetsnbextension~=3.6.0->ipywidgets) (21.3.0)\n",
            "Requirement already satisfied: nbformat in /usr/local/lib/python3.9/dist-packages (from notebook>=4.4.1->widgetsnbextension~=3.6.0->ipywidgets) (5.7.3)\n",
            "Requirement already satisfied: jupyter-core>=4.6.1 in /usr/local/lib/python3.9/dist-packages (from notebook>=4.4.1->widgetsnbextension~=3.6.0->ipywidgets) (5.3.0)\n",
            "Requirement already satisfied: pyzmq>=17 in /usr/local/lib/python3.9/dist-packages (from notebook>=4.4.1->widgetsnbextension~=3.6.0->ipywidgets) (23.2.1)\n",
            "Requirement already satisfied: python-dateutil>=2.1 in /usr/local/lib/python3.9/dist-packages (from jupyter-client->ipykernel>=4.5.1->ipywidgets) (2.8.2)\n",
            "Requirement already satisfied: wcwidth in /usr/local/lib/python3.9/dist-packages (from prompt-toolkit<2.1.0,>=2.0.0->ipython>=4.0.0->ipywidgets) (0.2.6)\n",
            "Requirement already satisfied: six>=1.9.0 in /usr/local/lib/python3.9/dist-packages (from prompt-toolkit<2.1.0,>=2.0.0->ipython>=4.0.0->ipywidgets) (1.15.0)\n",
            "Requirement already satisfied: ptyprocess>=0.5 in /usr/local/lib/python3.9/dist-packages (from pexpect->ipython>=4.0.0->ipywidgets) (0.7.0)\n",
            "Requirement already satisfied: platformdirs>=2.5 in /usr/local/lib/python3.9/dist-packages (from jupyter-core>=4.6.1->notebook>=4.4.1->widgetsnbextension~=3.6.0->ipywidgets) (3.1.1)\n",
            "Requirement already satisfied: notebook-shim>=0.1.0 in /usr/local/lib/python3.9/dist-packages (from nbclassic>=0.4.7->notebook>=4.4.1->widgetsnbextension~=3.6.0->ipywidgets) (0.2.2)\n",
            "Requirement already satisfied: jupyter-server>=1.8 in /usr/local/lib/python3.9/dist-packages (from nbclassic>=0.4.7->notebook>=4.4.1->widgetsnbextension~=3.6.0->ipywidgets) (1.23.6)\n",
            "Requirement already satisfied: jupyterlab-pygments in /usr/local/lib/python3.9/dist-packages (from nbconvert>=5->notebook>=4.4.1->widgetsnbextension~=3.6.0->ipywidgets) (0.2.2)\n",
            "Requirement already satisfied: nbclient>=0.5.0 in /usr/local/lib/python3.9/dist-packages (from nbconvert>=5->notebook>=4.4.1->widgetsnbextension~=3.6.0->ipywidgets) (0.7.2)\n",
            "Requirement already satisfied: entrypoints>=0.2.2 in /usr/local/lib/python3.9/dist-packages (from nbconvert>=5->notebook>=4.4.1->widgetsnbextension~=3.6.0->ipywidgets) (0.4)\n",
            "Requirement already satisfied: defusedxml in /usr/local/lib/python3.9/dist-packages (from nbconvert>=5->notebook>=4.4.1->widgetsnbextension~=3.6.0->ipywidgets) (0.7.1)\n",
            "Requirement already satisfied: lxml in /usr/local/lib/python3.9/dist-packages (from nbconvert>=5->notebook>=4.4.1->widgetsnbextension~=3.6.0->ipywidgets) (4.9.2)\n",
            "Requirement already satisfied: pandocfilters>=1.4.1 in /usr/local/lib/python3.9/dist-packages (from nbconvert>=5->notebook>=4.4.1->widgetsnbextension~=3.6.0->ipywidgets) (1.5.0)\n",
            "Requirement already satisfied: packaging in /usr/local/lib/python3.9/dist-packages (from nbconvert>=5->notebook>=4.4.1->widgetsnbextension~=3.6.0->ipywidgets) (23.0)\n",
            "Requirement already satisfied: MarkupSafe>=2.0 in /usr/local/lib/python3.9/dist-packages (from nbconvert>=5->notebook>=4.4.1->widgetsnbextension~=3.6.0->ipywidgets) (2.1.2)\n",
            "Requirement already satisfied: mistune<2,>=0.8.1 in /usr/local/lib/python3.9/dist-packages (from nbconvert>=5->notebook>=4.4.1->widgetsnbextension~=3.6.0->ipywidgets) (0.8.4)\n",
            "Requirement already satisfied: tinycss2 in /usr/local/lib/python3.9/dist-packages (from nbconvert>=5->notebook>=4.4.1->widgetsnbextension~=3.6.0->ipywidgets) (1.2.1)\n",
            "Requirement already satisfied: beautifulsoup4 in /usr/local/lib/python3.9/dist-packages (from nbconvert>=5->notebook>=4.4.1->widgetsnbextension~=3.6.0->ipywidgets) (4.11.2)\n",
            "Requirement already satisfied: bleach in /usr/local/lib/python3.9/dist-packages (from nbconvert>=5->notebook>=4.4.1->widgetsnbextension~=3.6.0->ipywidgets) (6.0.0)\n",
            "Requirement already satisfied: fastjsonschema in /usr/local/lib/python3.9/dist-packages (from nbformat->notebook>=4.4.1->widgetsnbextension~=3.6.0->ipywidgets) (2.16.3)\n",
            "Requirement already satisfied: jsonschema>=2.6 in /usr/local/lib/python3.9/dist-packages (from nbformat->notebook>=4.4.1->widgetsnbextension~=3.6.0->ipywidgets) (4.3.3)\n",
            "Requirement already satisfied: argon2-cffi-bindings in /usr/local/lib/python3.9/dist-packages (from argon2-cffi->notebook>=4.4.1->widgetsnbextension~=3.6.0->ipywidgets) (21.2.0)\n",
            "Requirement already satisfied: attrs>=17.4.0 in /usr/local/lib/python3.9/dist-packages (from jsonschema>=2.6->nbformat->notebook>=4.4.1->widgetsnbextension~=3.6.0->ipywidgets) (22.2.0)\n",
            "Requirement already satisfied: pyrsistent!=0.17.0,!=0.17.1,!=0.17.2,>=0.14.0 in /usr/local/lib/python3.9/dist-packages (from jsonschema>=2.6->nbformat->notebook>=4.4.1->widgetsnbextension~=3.6.0->ipywidgets) (0.19.3)\n",
            "Requirement already satisfied: websocket-client in /usr/local/lib/python3.9/dist-packages (from jupyter-server>=1.8->nbclassic>=0.4.7->notebook>=4.4.1->widgetsnbextension~=3.6.0->ipywidgets) (1.5.1)\n",
            "Requirement already satisfied: anyio<4,>=3.1.0 in /usr/local/lib/python3.9/dist-packages (from jupyter-server>=1.8->nbclassic>=0.4.7->notebook>=4.4.1->widgetsnbextension~=3.6.0->ipywidgets) (3.6.2)\n",
            "Requirement already satisfied: cffi>=1.0.1 in /usr/local/lib/python3.9/dist-packages (from argon2-cffi-bindings->argon2-cffi->notebook>=4.4.1->widgetsnbextension~=3.6.0->ipywidgets) (1.15.1)\n",
            "Requirement already satisfied: soupsieve>1.2 in /usr/local/lib/python3.9/dist-packages (from beautifulsoup4->nbconvert>=5->notebook>=4.4.1->widgetsnbextension~=3.6.0->ipywidgets) (2.4)\n",
            "Requirement already satisfied: webencodings in /usr/local/lib/python3.9/dist-packages (from bleach->nbconvert>=5->notebook>=4.4.1->widgetsnbextension~=3.6.0->ipywidgets) (0.5.1)\n",
            "Requirement already satisfied: idna>=2.8 in /usr/local/lib/python3.9/dist-packages (from anyio<4,>=3.1.0->jupyter-server>=1.8->nbclassic>=0.4.7->notebook>=4.4.1->widgetsnbextension~=3.6.0->ipywidgets) (3.4)\n",
            "Requirement already satisfied: sniffio>=1.1 in /usr/local/lib/python3.9/dist-packages (from anyio<4,>=3.1.0->jupyter-server>=1.8->nbclassic>=0.4.7->notebook>=4.4.1->widgetsnbextension~=3.6.0->ipywidgets) (1.3.0)\n",
            "Requirement already satisfied: pycparser in /usr/local/lib/python3.9/dist-packages (from cffi>=1.0.1->argon2-cffi-bindings->argon2-cffi->notebook>=4.4.1->widgetsnbextension~=3.6.0->ipywidgets) (2.21)\n",
            "time: 686 µs (started: 2023-03-20 21:58:00 +00:00)\n"
          ]
        }
      ],
      "source": [
        "%matplotlib inline\n",
        "import numpy as np\n",
        "import pandas as pd\n",
        "import os\n",
        "import sys\n",
        "from sklearn.model_selection import train_test_split\n",
        "!{sys.executable} -m pip install altair vega_datasets\n",
        "import altair as alt\n",
        "import seaborn as sns\n",
        "import matplotlib.pyplot as plt\n",
        "from pandas_profiling import ProfileReport\n",
        "from pandas.plotting import scatter_matrix\n",
        "from ipywidgets import FloatProgress\n",
        "from ipywidgets import IntProgress\n",
        "!pip install ipython-autotime\n",
        "!pip install ipywidgets --user\n",
        "pd.options.display.min_rows = 115\n",
        "%load_ext autotime\n"
      ]
    },
    {
      "cell_type": "code",
      "source": [
        "from google.colab import drive\n",
        "drive.mount(\"/content/drive\")"
      ],
      "metadata": {
        "colab": {
          "base_uri": "https://localhost:8080/"
        },
        "id": "OBM40zHYEeBU",
        "outputId": "077a46f9-f107-45ad-ea37-edd7aa844208"
      },
      "execution_count": null,
      "outputs": [
        {
          "output_type": "stream",
          "name": "stdout",
          "text": [
            "Mounted at /content/drive\n",
            "time: 16 s (started: 2023-03-20 21:59:25 +00:00)\n"
          ]
        }
      ]
    },
    {
      "cell_type": "code",
      "source": [
        "%cd /content/drive/MyDrive/Big_Data_Assignment/Airbnb"
      ],
      "metadata": {
        "colab": {
          "base_uri": "https://localhost:8080/"
        },
        "id": "JFIbKyOmEgJZ",
        "outputId": "ba7d6203-ef5f-4298-a74e-75d5f2075e4f"
      },
      "execution_count": null,
      "outputs": [
        {
          "output_type": "stream",
          "name": "stdout",
          "text": [
            "/content/drive/MyDrive/Big_Data_Assignment/Airbnb\n",
            "time: 6.82 ms (started: 2023-03-20 21:59:43 +00:00)\n"
          ]
        }
      ]
    },
    {
      "cell_type": "markdown",
      "source": [
        "Load the Airbnb NYC dataset"
      ],
      "metadata": {
        "id": "6O4RINBQELH6"
      }
    },
    {
      "cell_type": "code",
      "source": [
        "AB_NYC = pd.read_csv('/content/drive/MyDrive/Big_Data_Assignment/Airbnb/Airbnb_NYC.csv')"
      ],
      "metadata": {
        "colab": {
          "base_uri": "https://localhost:8080/"
        },
        "id": "DZHECZfTEOzL",
        "outputId": "77ecb679-4993-481f-c99c-867947941620"
      },
      "execution_count": null,
      "outputs": [
        {
          "output_type": "stream",
          "name": "stdout",
          "text": [
            "time: 2.8 s (started: 2023-03-20 21:59:46 +00:00)\n"
          ]
        },
        {
          "output_type": "stream",
          "name": "stderr",
          "text": [
            "<ipython-input-4-106a4752fd89>:1: DtypeWarning: Columns (68) have mixed types. Specify dtype option on import or set low_memory=False.\n",
            "  AB_NYC = pd.read_csv('/content/drive/MyDrive/Big_Data_Assignment/Airbnb/Airbnb_NYC.csv')\n"
          ]
        }
      ]
    },
    {
      "cell_type": "markdown",
      "source": [
        "To find missing values in dataset"
      ],
      "metadata": {
        "id": "n6eqpnqcI79R"
      }
    },
    {
      "cell_type": "code",
      "source": [
        "pd.DataFrame(AB_NYC.isna().sum().sort_values(ascending = False))"
      ],
      "metadata": {
        "colab": {
          "base_uri": "https://localhost:8080/",
          "height": 1000
        },
        "id": "-ZQE_JXRJA3k",
        "outputId": "ab9feb2c-e59a-478a-e7f9-bd8bda24eda2"
      },
      "execution_count": null,
      "outputs": [
        {
          "output_type": "execute_result",
          "data": {
            "text/plain": [
              "                                                  0\n",
              "bathrooms                                     41533\n",
              "calendar_updated                              41533\n",
              "license                                       41532\n",
              "host_about                                    18312\n",
              "neighborhood_overview                         17444\n",
              "neighbourhood                                 17443\n",
              "host_response_time                            13645\n",
              "host_response_rate                            13645\n",
              "host_acceptance_rate                          12211\n",
              "review_scores_value                            9848\n",
              "review_scores_location                         9848\n",
              "review_scores_checkin                          9845\n",
              "review_scores_accuracy                         9841\n",
              "review_scores_communication                    9836\n",
              "review_scores_cleanliness                      9831\n",
              "reviews_per_month                              9393\n",
              "first_review                                   9393\n",
              "last_review                                    9393\n",
              "review_scores_rating                           9393\n",
              "host_neighbourhood                             8189\n",
              "host_location                                  7745\n",
              "bedrooms                                       3822\n",
              "beds                                            941\n",
              "description                                     786\n",
              "bathrooms_text                                   77\n",
              "host_is_superhost                                29\n",
              "maximum_nights_avg_ntm                           14\n",
              "minimum_nights_avg_ntm                           14\n",
              "maximum_maximum_nights                           14\n",
              "minimum_maximum_nights                           14\n",
              "...                                             ...\n",
              "host_id                                           0\n",
              "picture_url                                       0\n",
              "source                                            0\n",
              "last_scraped                                      0\n",
              "scrape_id                                         0\n",
              "instant_bookable                                  0\n",
              "calculated_host_listings_count                    0\n",
              "calculated_host_listings_count_entire_homes       0\n",
              "calculated_host_listings_count_private_rooms      0\n",
              "calculated_host_listings_count_shared_rooms       0\n",
              "number_of_reviews_ltm                             0\n",
              "number_of_reviews                                 0\n",
              "calendar_last_scraped                             0\n",
              "availability_365                                  0\n",
              "amenities                                         0\n",
              "price                                             0\n",
              "minimum_nights                                    0\n",
              "maximum_nights                                    0\n",
              "accommodates                                      0\n",
              "room_type                                         0\n",
              "property_type                                     0\n",
              "longitude                                         0\n",
              "latitude                                          0\n",
              "neighbourhood_group_cleansed                      0\n",
              "neighbourhood_cleansed                            0\n",
              "has_availability                                  0\n",
              "availability_30                                   0\n",
              "availability_60                                   0\n",
              "availability_90                                   0\n",
              "id                                                0\n",
              "\n",
              "[75 rows x 1 columns]"
            ],
            "text/html": [
              "\n",
              "  <div id=\"df-04ab50d7-1d99-4de8-91bd-154aeabf9ecf\">\n",
              "    <div class=\"colab-df-container\">\n",
              "      <div>\n",
              "<style scoped>\n",
              "    .dataframe tbody tr th:only-of-type {\n",
              "        vertical-align: middle;\n",
              "    }\n",
              "\n",
              "    .dataframe tbody tr th {\n",
              "        vertical-align: top;\n",
              "    }\n",
              "\n",
              "    .dataframe thead th {\n",
              "        text-align: right;\n",
              "    }\n",
              "</style>\n",
              "<table border=\"1\" class=\"dataframe\">\n",
              "  <thead>\n",
              "    <tr style=\"text-align: right;\">\n",
              "      <th></th>\n",
              "      <th>0</th>\n",
              "    </tr>\n",
              "  </thead>\n",
              "  <tbody>\n",
              "    <tr>\n",
              "      <th>bathrooms</th>\n",
              "      <td>41533</td>\n",
              "    </tr>\n",
              "    <tr>\n",
              "      <th>calendar_updated</th>\n",
              "      <td>41533</td>\n",
              "    </tr>\n",
              "    <tr>\n",
              "      <th>license</th>\n",
              "      <td>41532</td>\n",
              "    </tr>\n",
              "    <tr>\n",
              "      <th>host_about</th>\n",
              "      <td>18312</td>\n",
              "    </tr>\n",
              "    <tr>\n",
              "      <th>neighborhood_overview</th>\n",
              "      <td>17444</td>\n",
              "    </tr>\n",
              "    <tr>\n",
              "      <th>neighbourhood</th>\n",
              "      <td>17443</td>\n",
              "    </tr>\n",
              "    <tr>\n",
              "      <th>host_response_time</th>\n",
              "      <td>13645</td>\n",
              "    </tr>\n",
              "    <tr>\n",
              "      <th>host_response_rate</th>\n",
              "      <td>13645</td>\n",
              "    </tr>\n",
              "    <tr>\n",
              "      <th>host_acceptance_rate</th>\n",
              "      <td>12211</td>\n",
              "    </tr>\n",
              "    <tr>\n",
              "      <th>review_scores_value</th>\n",
              "      <td>9848</td>\n",
              "    </tr>\n",
              "    <tr>\n",
              "      <th>review_scores_location</th>\n",
              "      <td>9848</td>\n",
              "    </tr>\n",
              "    <tr>\n",
              "      <th>review_scores_checkin</th>\n",
              "      <td>9845</td>\n",
              "    </tr>\n",
              "    <tr>\n",
              "      <th>review_scores_accuracy</th>\n",
              "      <td>9841</td>\n",
              "    </tr>\n",
              "    <tr>\n",
              "      <th>review_scores_communication</th>\n",
              "      <td>9836</td>\n",
              "    </tr>\n",
              "    <tr>\n",
              "      <th>review_scores_cleanliness</th>\n",
              "      <td>9831</td>\n",
              "    </tr>\n",
              "    <tr>\n",
              "      <th>reviews_per_month</th>\n",
              "      <td>9393</td>\n",
              "    </tr>\n",
              "    <tr>\n",
              "      <th>first_review</th>\n",
              "      <td>9393</td>\n",
              "    </tr>\n",
              "    <tr>\n",
              "      <th>last_review</th>\n",
              "      <td>9393</td>\n",
              "    </tr>\n",
              "    <tr>\n",
              "      <th>review_scores_rating</th>\n",
              "      <td>9393</td>\n",
              "    </tr>\n",
              "    <tr>\n",
              "      <th>host_neighbourhood</th>\n",
              "      <td>8189</td>\n",
              "    </tr>\n",
              "    <tr>\n",
              "      <th>host_location</th>\n",
              "      <td>7745</td>\n",
              "    </tr>\n",
              "    <tr>\n",
              "      <th>bedrooms</th>\n",
              "      <td>3822</td>\n",
              "    </tr>\n",
              "    <tr>\n",
              "      <th>beds</th>\n",
              "      <td>941</td>\n",
              "    </tr>\n",
              "    <tr>\n",
              "      <th>description</th>\n",
              "      <td>786</td>\n",
              "    </tr>\n",
              "    <tr>\n",
              "      <th>bathrooms_text</th>\n",
              "      <td>77</td>\n",
              "    </tr>\n",
              "    <tr>\n",
              "      <th>host_is_superhost</th>\n",
              "      <td>29</td>\n",
              "    </tr>\n",
              "    <tr>\n",
              "      <th>maximum_nights_avg_ntm</th>\n",
              "      <td>14</td>\n",
              "    </tr>\n",
              "    <tr>\n",
              "      <th>minimum_nights_avg_ntm</th>\n",
              "      <td>14</td>\n",
              "    </tr>\n",
              "    <tr>\n",
              "      <th>maximum_maximum_nights</th>\n",
              "      <td>14</td>\n",
              "    </tr>\n",
              "    <tr>\n",
              "      <th>minimum_maximum_nights</th>\n",
              "      <td>14</td>\n",
              "    </tr>\n",
              "    <tr>\n",
              "      <th>...</th>\n",
              "      <td>...</td>\n",
              "    </tr>\n",
              "    <tr>\n",
              "      <th>host_id</th>\n",
              "      <td>0</td>\n",
              "    </tr>\n",
              "    <tr>\n",
              "      <th>picture_url</th>\n",
              "      <td>0</td>\n",
              "    </tr>\n",
              "    <tr>\n",
              "      <th>source</th>\n",
              "      <td>0</td>\n",
              "    </tr>\n",
              "    <tr>\n",
              "      <th>last_scraped</th>\n",
              "      <td>0</td>\n",
              "    </tr>\n",
              "    <tr>\n",
              "      <th>scrape_id</th>\n",
              "      <td>0</td>\n",
              "    </tr>\n",
              "    <tr>\n",
              "      <th>instant_bookable</th>\n",
              "      <td>0</td>\n",
              "    </tr>\n",
              "    <tr>\n",
              "      <th>calculated_host_listings_count</th>\n",
              "      <td>0</td>\n",
              "    </tr>\n",
              "    <tr>\n",
              "      <th>calculated_host_listings_count_entire_homes</th>\n",
              "      <td>0</td>\n",
              "    </tr>\n",
              "    <tr>\n",
              "      <th>calculated_host_listings_count_private_rooms</th>\n",
              "      <td>0</td>\n",
              "    </tr>\n",
              "    <tr>\n",
              "      <th>calculated_host_listings_count_shared_rooms</th>\n",
              "      <td>0</td>\n",
              "    </tr>\n",
              "    <tr>\n",
              "      <th>number_of_reviews_ltm</th>\n",
              "      <td>0</td>\n",
              "    </tr>\n",
              "    <tr>\n",
              "      <th>number_of_reviews</th>\n",
              "      <td>0</td>\n",
              "    </tr>\n",
              "    <tr>\n",
              "      <th>calendar_last_scraped</th>\n",
              "      <td>0</td>\n",
              "    </tr>\n",
              "    <tr>\n",
              "      <th>availability_365</th>\n",
              "      <td>0</td>\n",
              "    </tr>\n",
              "    <tr>\n",
              "      <th>amenities</th>\n",
              "      <td>0</td>\n",
              "    </tr>\n",
              "    <tr>\n",
              "      <th>price</th>\n",
              "      <td>0</td>\n",
              "    </tr>\n",
              "    <tr>\n",
              "      <th>minimum_nights</th>\n",
              "      <td>0</td>\n",
              "    </tr>\n",
              "    <tr>\n",
              "      <th>maximum_nights</th>\n",
              "      <td>0</td>\n",
              "    </tr>\n",
              "    <tr>\n",
              "      <th>accommodates</th>\n",
              "      <td>0</td>\n",
              "    </tr>\n",
              "    <tr>\n",
              "      <th>room_type</th>\n",
              "      <td>0</td>\n",
              "    </tr>\n",
              "    <tr>\n",
              "      <th>property_type</th>\n",
              "      <td>0</td>\n",
              "    </tr>\n",
              "    <tr>\n",
              "      <th>longitude</th>\n",
              "      <td>0</td>\n",
              "    </tr>\n",
              "    <tr>\n",
              "      <th>latitude</th>\n",
              "      <td>0</td>\n",
              "    </tr>\n",
              "    <tr>\n",
              "      <th>neighbourhood_group_cleansed</th>\n",
              "      <td>0</td>\n",
              "    </tr>\n",
              "    <tr>\n",
              "      <th>neighbourhood_cleansed</th>\n",
              "      <td>0</td>\n",
              "    </tr>\n",
              "    <tr>\n",
              "      <th>has_availability</th>\n",
              "      <td>0</td>\n",
              "    </tr>\n",
              "    <tr>\n",
              "      <th>availability_30</th>\n",
              "      <td>0</td>\n",
              "    </tr>\n",
              "    <tr>\n",
              "      <th>availability_60</th>\n",
              "      <td>0</td>\n",
              "    </tr>\n",
              "    <tr>\n",
              "      <th>availability_90</th>\n",
              "      <td>0</td>\n",
              "    </tr>\n",
              "    <tr>\n",
              "      <th>id</th>\n",
              "      <td>0</td>\n",
              "    </tr>\n",
              "  </tbody>\n",
              "</table>\n",
              "<p>75 rows × 1 columns</p>\n",
              "</div>\n",
              "      <button class=\"colab-df-convert\" onclick=\"convertToInteractive('df-04ab50d7-1d99-4de8-91bd-154aeabf9ecf')\"\n",
              "              title=\"Convert this dataframe to an interactive table.\"\n",
              "              style=\"display:none;\">\n",
              "        \n",
              "  <svg xmlns=\"http://www.w3.org/2000/svg\" height=\"24px\"viewBox=\"0 0 24 24\"\n",
              "       width=\"24px\">\n",
              "    <path d=\"M0 0h24v24H0V0z\" fill=\"none\"/>\n",
              "    <path d=\"M18.56 5.44l.94 2.06.94-2.06 2.06-.94-2.06-.94-.94-2.06-.94 2.06-2.06.94zm-11 1L8.5 8.5l.94-2.06 2.06-.94-2.06-.94L8.5 2.5l-.94 2.06-2.06.94zm10 10l.94 2.06.94-2.06 2.06-.94-2.06-.94-.94-2.06-.94 2.06-2.06.94z\"/><path d=\"M17.41 7.96l-1.37-1.37c-.4-.4-.92-.59-1.43-.59-.52 0-1.04.2-1.43.59L10.3 9.45l-7.72 7.72c-.78.78-.78 2.05 0 2.83L4 21.41c.39.39.9.59 1.41.59.51 0 1.02-.2 1.41-.59l7.78-7.78 2.81-2.81c.8-.78.8-2.07 0-2.86zM5.41 20L4 18.59l7.72-7.72 1.47 1.35L5.41 20z\"/>\n",
              "  </svg>\n",
              "      </button>\n",
              "      \n",
              "  <style>\n",
              "    .colab-df-container {\n",
              "      display:flex;\n",
              "      flex-wrap:wrap;\n",
              "      gap: 12px;\n",
              "    }\n",
              "\n",
              "    .colab-df-convert {\n",
              "      background-color: #E8F0FE;\n",
              "      border: none;\n",
              "      border-radius: 50%;\n",
              "      cursor: pointer;\n",
              "      display: none;\n",
              "      fill: #1967D2;\n",
              "      height: 32px;\n",
              "      padding: 0 0 0 0;\n",
              "      width: 32px;\n",
              "    }\n",
              "\n",
              "    .colab-df-convert:hover {\n",
              "      background-color: #E2EBFA;\n",
              "      box-shadow: 0px 1px 2px rgba(60, 64, 67, 0.3), 0px 1px 3px 1px rgba(60, 64, 67, 0.15);\n",
              "      fill: #174EA6;\n",
              "    }\n",
              "\n",
              "    [theme=dark] .colab-df-convert {\n",
              "      background-color: #3B4455;\n",
              "      fill: #D2E3FC;\n",
              "    }\n",
              "\n",
              "    [theme=dark] .colab-df-convert:hover {\n",
              "      background-color: #434B5C;\n",
              "      box-shadow: 0px 1px 3px 1px rgba(0, 0, 0, 0.15);\n",
              "      filter: drop-shadow(0px 1px 2px rgba(0, 0, 0, 0.3));\n",
              "      fill: #FFFFFF;\n",
              "    }\n",
              "  </style>\n",
              "\n",
              "      <script>\n",
              "        const buttonEl =\n",
              "          document.querySelector('#df-04ab50d7-1d99-4de8-91bd-154aeabf9ecf button.colab-df-convert');\n",
              "        buttonEl.style.display =\n",
              "          google.colab.kernel.accessAllowed ? 'block' : 'none';\n",
              "\n",
              "        async function convertToInteractive(key) {\n",
              "          const element = document.querySelector('#df-04ab50d7-1d99-4de8-91bd-154aeabf9ecf');\n",
              "          const dataTable =\n",
              "            await google.colab.kernel.invokeFunction('convertToInteractive',\n",
              "                                                     [key], {});\n",
              "          if (!dataTable) return;\n",
              "\n",
              "          const docLinkHtml = 'Like what you see? Visit the ' +\n",
              "            '<a target=\"_blank\" href=https://colab.research.google.com/notebooks/data_table.ipynb>data table notebook</a>'\n",
              "            + ' to learn more about interactive tables.';\n",
              "          element.innerHTML = '';\n",
              "          dataTable['output_type'] = 'display_data';\n",
              "          await google.colab.output.renderOutput(dataTable, element);\n",
              "          const docLink = document.createElement('div');\n",
              "          docLink.innerHTML = docLinkHtml;\n",
              "          element.appendChild(docLink);\n",
              "        }\n",
              "      </script>\n",
              "    </div>\n",
              "  </div>\n",
              "  "
            ]
          },
          "metadata": {},
          "execution_count": 6
        },
        {
          "output_type": "stream",
          "name": "stdout",
          "text": [
            "time: 218 ms (started: 2023-03-20 21:59:55 +00:00)\n"
          ]
        }
      ]
    },
    {
      "cell_type": "markdown",
      "source": [
        "Dsitribution of host_response_time using the bar graph"
      ],
      "metadata": {
        "id": "Hkt7La2QJWwC"
      }
    },
    {
      "cell_type": "code",
      "source": [
        "#Data Cleanup - Replacing missing values with most frequency\n",
        "AB_NYC['host_response_time'].isna().sum()\n",
        "AB_NYC['host_response_time'].value_counts().plot(kind = 'bar')\n",
        "#AB_NYC['host_response_time'] = AB_NYC['host_response_time'].fillna('within an hour')\n",
        "AB_NYC['host_response_time'].fillna('within an hour', inplace=True)"
      ],
      "metadata": {
        "colab": {
          "base_uri": "https://localhost:8080/",
          "height": 368
        },
        "id": "iWfHWHRqJdUP",
        "outputId": "17b3d3df-09ac-4cfd-9de7-c32b5b0d9f3d"
      },
      "execution_count": null,
      "outputs": [
        {
          "output_type": "display_data",
          "data": {
            "text/plain": [
              "<Figure size 432x288 with 1 Axes>"
            ],
            "image/png": "[encoded data removed]"
          },
          "metadata": {
            "needs_background": "light"
          }
        },
        {
          "output_type": "stream",
          "name": "stdout",
          "text": [
            "time: 256 ms (started: 2023-03-20 21:59:59 +00:00)\n"
          ]
        }
      ]
    },
    {
      "cell_type": "markdown",
      "source": [
        "From the above graph, we know that the most of the data is towards the  \"within an hour\". So we replace all the NA values with it."
      ],
      "metadata": {
        "id": "-fsxoTP7KHg9"
      }
    },
    {
      "cell_type": "code",
      "source": [
        "#Data Cleanup - Replacing missing values with most frequency\n",
        "AB_NYC['host_is_superhost'].isna().sum()\n",
        "AB_NYC['host_is_superhost'].value_counts().plot(kind = 'bar')\n",
        "#AB_NYC['host_is_superhost'] = AB_NYC['host_is_superhost'].fillna('f')\n",
        "AB_NYC['host_is_superhost'].fillna('f', inplace=True)"
      ],
      "metadata": {
        "colab": {
          "base_uri": "https://localhost:8080/",
          "height": 276
        },
        "id": "3oEsIHtLKEPg",
        "outputId": "973d5f06-7c69-46dd-c469-a9224088675d"
      },
      "execution_count": null,
      "outputs": [
        {
          "output_type": "display_data",
          "data": {
            "text/plain": [
              "<Figure size 432x288 with 1 Axes>"
            ],
            "image/png": "[encoded data removed]"
          },
          "metadata": {
            "needs_background": "light"
          }
        },
        {
          "output_type": "stream",
          "name": "stdout",
          "text": [
            "time: 488 ms (started: 2023-03-20 22:00:01 +00:00)\n"
          ]
        }
      ]
    },
    {
      "cell_type": "markdown",
      "source": [
        "From the above graph, we know that the most of the data is towards the  \"f\". So we replace all the NA values with it."
      ],
      "metadata": {
        "id": "8XsxrO-yKo2w"
      }
    },
    {
      "cell_type": "code",
      "source": [
        "def calculate_missing_values(df):\n",
        "    missing_df = 100 * df.isna().sum() / len(df.index)\n",
        "    missing_df = missing_df.to_frame()\n",
        "    missing_df = missing_df[missing_df[0] != 0]\n",
        "    missing_df.plot.bar(figsize=(20,20))\n",
        "    return missing_df\n",
        "\n",
        "calculate_missing_values(AB_NYC)"
      ],
      "metadata": {
        "id": "x8o5euH-ONhc"
      },
      "execution_count": null,
      "outputs": []
    },
    {
      "cell_type": "code",
      "source": [
        "#Replace Blanks with NaN\n",
        "#AB_NYC = AB_NYC.replace({'':np.nan})\n",
        "#AB_NYC = AB_NYC.replace({'':np.nan_to_num(AB_NYC)})\n",
        "#def CalMissing(df):\n",
        "#    MissingDF = 100*AB_NYC.isna().sum()/len(AB_NYC.index)\n",
        "#    MissingDF = MissingDF.to_frame()\n",
        "#    MissingDF = MissingDF[MissingDF[0] != 0]\n",
        "#    MissingDF.plot.bar(figsize=(20,20))\n",
        "#    return MissingDF\n",
        "#X = CalMissing(AB_NYC)"
      ],
      "metadata": {
        "id": "PGybbqbMKs8G"
      },
      "execution_count": null,
      "outputs": []
    },
    {
      "cell_type": "markdown",
      "source": [
        "Remove dollar sign for all variables with '$' sign"
      ],
      "metadata": {
        "id": "QAgr5upzLyyb"
      }
    },
    {
      "cell_type": "code",
      "source": [
        "#Data Cleanup - Removing special characters\\\n",
        "AB_NYC['host_response_rate']=AB_NYC['host_response_rate'].str.replace('[%]','')\n",
        "AB_NYC['host_acceptance_rate']=AB_NYC['host_acceptance_rate'].str.replace('[%]','')\n",
        "AB_NYC['price'] = AB_NYC['price'].replace('[$,,]', '', regex=True)\n",
        "AB_NYC['host_response_rate'].apply(lambda x: float(x))\n",
        "AB_NYC['host_acceptance_rate'].apply(lambda x: float(x))\n",
        "AB_NYC['price'].apply(lambda x: float(x))"
      ],
      "metadata": {
        "id": "WTna28gTLxtO"
      },
      "execution_count": null,
      "outputs": []
    },
    {
      "cell_type": "markdown",
      "source": [
        "We are now using the interquartile range to remove the outliers , we chose interquartile because we wanted to get the most observed data which doesnot have misconfigured values"
      ],
      "metadata": {
        "id": "Bqt5rHAINlxQ"
      }
    },
    {
      "cell_type": "code",
      "source": [
        "#Remove Price Outlier\n",
        "percentile25 = AB_NYC['price'].astype('float').quantile(0.25)\n",
        "percentile75 = AB_NYC['price'].astype('float').quantile(0.75)\n",
        "iqr = percentile75 - percentile25\n",
        "upper_limit = percentile75 + 1.5 * iqr\n",
        "AB_NYC = AB_NYC[AB_NYC['price'].astype('float') < upper_limit]"
      ],
      "metadata": {
        "colab": {
          "base_uri": "https://localhost:8080/"
        },
        "id": "mu6fsIS0NnzY",
        "outputId": "542a7133-49b0-4d81-be58-ca7a4d166b49"
      },
      "execution_count": null,
      "outputs": [
        {
          "output_type": "execute_result",
          "data": {
            "text/plain": [
              "(38311, 75)"
            ]
          },
          "metadata": {},
          "execution_count": 11
        },
        {
          "output_type": "stream",
          "name": "stdout",
          "text": [
            "time: 169 ms (started: 2023-03-20 22:00:14 +00:00)\n"
          ]
        }
      ]
    },
    {
      "cell_type": "code",
      "source": [
        "from pandas.io.formats.style import Subset\n",
        "#Drop rows and columns that has missing values and redundant in any of the subset columns\n",
        "AB_NYC = AB_NYC.dropna(how = 'any',\n",
        "                       subset=['host_is_superhost', 'host_listings_count', 'neighbourhood','beds','host_location','reviews_per_month'])\n",
        "# Drop columns that has only URL\n",
        "AB_NYC=AB_NYC.loc[:, ~AB_NYC.columns.str.contains(\"url\")]\n",
        "#Drop columns that has more than 55% missing values \n",
        "AB_NYC = AB_NYC.drop(AB_NYC.loc[:,list((100*(AB_NYC.isnull().sum()/len(AB_NYC))>=55))].columns, 1)\n",
        "#Drop redundant columns\n",
        "AB_NYC=AB_NYC.drop(['name','host_name','host_id','host_is_superhost','host_identity_verified','neighbourhood','host_neighbourhood', 'first_review','last_review','calendar_last_scraped','last_scraped','scrape_id','id','host_has_profile_pic','latitude','longitude'], axis = 1)"
      ],
      "metadata": {
        "colab": {
          "base_uri": "https://localhost:8080/"
        },
        "id": "905xnNVAOS04",
        "outputId": "8cfa29cb-e5b3-4c4c-fa41-b27d22dd897e"
      },
      "execution_count": null,
      "outputs": [
        {
          "output_type": "stream",
          "name": "stdout",
          "text": [
            "time: 190 ms (started: 2023-03-20 22:00:18 +00:00)\n"
          ]
        },
        {
          "output_type": "stream",
          "name": "stderr",
          "text": [
            "<ipython-input-12-344de025f54e>:8: FutureWarning: In a future version of pandas all arguments of DataFrame.drop except for the argument 'labels' will be keyword-only.\n",
            "  AB_NYC = AB_NYC.drop(AB_NYC.loc[:,list((100*(AB_NYC.isnull().sum()/len(AB_NYC))>=55))].columns, 1)\n"
          ]
        }
      ]
    },
    {
      "cell_type": "markdown",
      "source": [
        "Transforming boolean values to numerical"
      ],
      "metadata": {
        "id": "yF-RjcvyPO09"
      }
    },
    {
      "cell_type": "code",
      "source": [
        "#Mapping columns with Boolean True/False to 1/0\n",
        "AB_NYC['has_availability'] = AB_NYC['has_availability'].map({'t':1 ,'f':0}) \n",
        "AB_NYC['instant_bookable'] = AB_NYC['instant_bookable'].map({'t':1 ,'f':0}) "
      ],
      "metadata": {
        "colab": {
          "base_uri": "https://localhost:8080/"
        },
        "id": "W9dqj5HUPSVO",
        "outputId": "4312ac65-bd13-4c48-d24c-5038427c395c"
      },
      "execution_count": null,
      "outputs": [
        {
          "output_type": "stream",
          "name": "stdout",
          "text": [
            "time: 21.9 ms (started: 2023-03-20 22:00:24 +00:00)\n"
          ]
        }
      ]
    },
    {
      "cell_type": "markdown",
      "source": [
        "There are different types of rooms and we found that usually the type of room is more important attribute to determine the house that we choose to live in. So we tried to understand the statictsics based on the room type"
      ],
      "metadata": {
        "id": "1n9zWN2sFZ1j"
      }
    },
    {
      "cell_type": "code",
      "source": [
        "pd.DataFrame(AB_NYC.groupby(['room_type']).count())"
      ],
      "metadata": {
        "colab": {
          "base_uri": "https://localhost:8080/",
          "height": 386
        },
        "id": "0wIpojPlFcow",
        "outputId": "f478c61e-0f4b-4424-a2a4-fb7af47dc728"
      },
      "execution_count": null,
      "outputs": [
        {
          "output_type": "execute_result",
          "data": {
            "text/plain": [
              "                 source  description  neighborhood_overview  host_since  \\\n",
              "room_type                                                                 \n",
              "Entire home/apt    9366         9342                   9366        9366   \n",
              "Hotel room           38           38                     38          38   \n",
              "Private room       6360         6346                   6359        6360   \n",
              "Shared room         180          180                    180         180   \n",
              "\n",
              "                 host_location  host_about  host_response_time  \\\n",
              "room_type                                                        \n",
              "Entire home/apt           9366        6644                9366   \n",
              "Hotel room                  38          31                  38   \n",
              "Private room              6360        4609                6360   \n",
              "Shared room                180         136                 180   \n",
              "\n",
              "                 host_response_rate  host_acceptance_rate  \\\n",
              "room_type                                                   \n",
              "Entire home/apt                6359                  6827   \n",
              "Hotel room                       38                    38   \n",
              "Private room                   4049                  4311   \n",
              "Shared room                     104                   109   \n",
              "\n",
              "                 host_listings_count  ...  review_scores_checkin  \\\n",
              "room_type                             ...                          \n",
              "Entire home/apt                 9366  ...                   9290   \n",
              "Hotel room                        38  ...                     38   \n",
              "Private room                    6360  ...                   6285   \n",
              "Shared room                      180  ...                    178   \n",
              "\n",
              "                 review_scores_communication  review_scores_location  \\\n",
              "room_type                                                              \n",
              "Entire home/apt                         9294                    9290   \n",
              "Hotel room                                38                      38   \n",
              "Private room                            6286                    6283   \n",
              "Shared room                              178                     178   \n",
              "\n",
              "                 review_scores_value  instant_bookable  \\\n",
              "room_type                                                \n",
              "Entire home/apt                 9290              9366   \n",
              "Hotel room                        38                38   \n",
              "Private room                    6283              6360   \n",
              "Shared room                      178               180   \n",
              "\n",
              "                 calculated_host_listings_count  \\\n",
              "room_type                                         \n",
              "Entire home/apt                            9366   \n",
              "Hotel room                                   38   \n",
              "Private room                               6360   \n",
              "Shared room                                 180   \n",
              "\n",
              "                 calculated_host_listings_count_entire_homes  \\\n",
              "room_type                                                      \n",
              "Entire home/apt                                         9366   \n",
              "Hotel room                                                38   \n",
              "Private room                                            6360   \n",
              "Shared room                                              180   \n",
              "\n",
              "                 calculated_host_listings_count_private_rooms  \\\n",
              "room_type                                                       \n",
              "Entire home/apt                                          9366   \n",
              "Hotel room                                                 38   \n",
              "Private room                                             6360   \n",
              "Shared room                                               180   \n",
              "\n",
              "                 calculated_host_listings_count_shared_rooms  \\\n",
              "room_type                                                      \n",
              "Entire home/apt                                         9366   \n",
              "Hotel room                                                38   \n",
              "Private room                                            6360   \n",
              "Shared room                                              180   \n",
              "\n",
              "                 reviews_per_month  \n",
              "room_type                           \n",
              "Entire home/apt               9366  \n",
              "Hotel room                      38  \n",
              "Private room                  6360  \n",
              "Shared room                    180  \n",
              "\n",
              "[4 rows x 50 columns]"
            ],
            "text/html": [
              "\n",
              "  <div id=\"df-3008dd9d-4685-4a74-89c1-87b27017b611\">\n",
              "    <div class=\"colab-df-container\">\n",
              "      <div>\n",
              "<style scoped>\n",
              "    .dataframe tbody tr th:only-of-type {\n",
              "        vertical-align: middle;\n",
              "    }\n",
              "\n",
              "    .dataframe tbody tr th {\n",
              "        vertical-align: top;\n",
              "    }\n",
              "\n",
              "    .dataframe thead th {\n",
              "        text-align: right;\n",
              "    }\n",
              "</style>\n",
              "<table border=\"1\" class=\"dataframe\">\n",
              "  <thead>\n",
              "    <tr style=\"text-align: right;\">\n",
              "      <th></th>\n",
              "      <th>source</th>\n",
              "      <th>description</th>\n",
              "      <th>neighborhood_overview</th>\n",
              "      <th>host_since</th>\n",
              "      <th>host_location</th>\n",
              "      <th>host_about</th>\n",
              "      <th>host_response_time</th>\n",
              "      <th>host_response_rate</th>\n",
              "      <th>host_acceptance_rate</th>\n",
              "      <th>host_listings_count</th>\n",
              "      <th>...</th>\n",
              "      <th>review_scores_checkin</th>\n",
              "      <th>review_scores_communication</th>\n",
              "      <th>review_scores_location</th>\n",
              "      <th>review_scores_value</th>\n",
              "      <th>instant_bookable</th>\n",
              "      <th>calculated_host_listings_count</th>\n",
              "      <th>calculated_host_listings_count_entire_homes</th>\n",
              "      <th>calculated_host_listings_count_private_rooms</th>\n",
              "      <th>calculated_host_listings_count_shared_rooms</th>\n",
              "      <th>reviews_per_month</th>\n",
              "    </tr>\n",
              "    <tr>\n",
              "      <th>room_type</th>\n",
              "      <th></th>\n",
              "      <th></th>\n",
              "      <th></th>\n",
              "      <th></th>\n",
              "      <th></th>\n",
              "      <th></th>\n",
              "      <th></th>\n",
              "      <th></th>\n",
              "      <th></th>\n",
              "      <th></th>\n",
              "      <th></th>\n",
              "      <th></th>\n",
              "      <th></th>\n",
              "      <th></th>\n",
              "      <th></th>\n",
              "      <th></th>\n",
              "      <th></th>\n",
              "      <th></th>\n",
              "      <th></th>\n",
              "      <th></th>\n",
              "      <th></th>\n",
              "    </tr>\n",
              "  </thead>\n",
              "  <tbody>\n",
              "    <tr>\n",
              "      <th>Entire home/apt</th>\n",
              "      <td>9366</td>\n",
              "      <td>9342</td>\n",
              "      <td>9366</td>\n",
              "      <td>9366</td>\n",
              "      <td>9366</td>\n",
              "      <td>6644</td>\n",
              "      <td>9366</td>\n",
              "      <td>6359</td>\n",
              "      <td>6827</td>\n",
              "      <td>9366</td>\n",
              "      <td>...</td>\n",
              "      <td>9290</td>\n",
              "      <td>9294</td>\n",
              "      <td>9290</td>\n",
              "      <td>9290</td>\n",
              "      <td>9366</td>\n",
              "      <td>9366</td>\n",
              "      <td>9366</td>\n",
              "      <td>9366</td>\n",
              "      <td>9366</td>\n",
              "      <td>9366</td>\n",
              "    </tr>\n",
              "    <tr>\n",
              "      <th>Hotel room</th>\n",
              "      <td>38</td>\n",
              "      <td>38</td>\n",
              "      <td>38</td>\n",
              "      <td>38</td>\n",
              "      <td>38</td>\n",
              "      <td>31</td>\n",
              "      <td>38</td>\n",
              "      <td>38</td>\n",
              "      <td>38</td>\n",
              "      <td>38</td>\n",
              "      <td>...</td>\n",
              "      <td>38</td>\n",
              "      <td>38</td>\n",
              "      <td>38</td>\n",
              "      <td>38</td>\n",
              "      <td>38</td>\n",
              "      <td>38</td>\n",
              "      <td>38</td>\n",
              "      <td>38</td>\n",
              "      <td>38</td>\n",
              "      <td>38</td>\n",
              "    </tr>\n",
              "    <tr>\n",
              "      <th>Private room</th>\n",
              "      <td>6360</td>\n",
              "      <td>6346</td>\n",
              "      <td>6359</td>\n",
              "      <td>6360</td>\n",
              "      <td>6360</td>\n",
              "      <td>4609</td>\n",
              "      <td>6360</td>\n",
              "      <td>4049</td>\n",
              "      <td>4311</td>\n",
              "      <td>6360</td>\n",
              "      <td>...</td>\n",
              "      <td>6285</td>\n",
              "      <td>6286</td>\n",
              "      <td>6283</td>\n",
              "      <td>6283</td>\n",
              "      <td>6360</td>\n",
              "      <td>6360</td>\n",
              "      <td>6360</td>\n",
              "      <td>6360</td>\n",
              "      <td>6360</td>\n",
              "      <td>6360</td>\n",
              "    </tr>\n",
              "    <tr>\n",
              "      <th>Shared room</th>\n",
              "      <td>180</td>\n",
              "      <td>180</td>\n",
              "      <td>180</td>\n",
              "      <td>180</td>\n",
              "      <td>180</td>\n",
              "      <td>136</td>\n",
              "      <td>180</td>\n",
              "      <td>104</td>\n",
              "      <td>109</td>\n",
              "      <td>180</td>\n",
              "      <td>...</td>\n",
              "      <td>178</td>\n",
              "      <td>178</td>\n",
              "      <td>178</td>\n",
              "      <td>178</td>\n",
              "      <td>180</td>\n",
              "      <td>180</td>\n",
              "      <td>180</td>\n",
              "      <td>180</td>\n",
              "      <td>180</td>\n",
              "      <td>180</td>\n",
              "    </tr>\n",
              "  </tbody>\n",
              "</table>\n",
              "<p>4 rows × 50 columns</p>\n",
              "</div>\n",
              "      <button class=\"colab-df-convert\" onclick=\"convertToInteractive('df-3008dd9d-4685-4a74-89c1-87b27017b611')\"\n",
              "              title=\"Convert this dataframe to an interactive table.\"\n",
              "              style=\"display:none;\">\n",
              "        \n",
              "  <svg xmlns=\"http://www.w3.org/2000/svg\" height=\"24px\"viewBox=\"0 0 24 24\"\n",
              "       width=\"24px\">\n",
              "    <path d=\"M0 0h24v24H0V0z\" fill=\"none\"/>\n",
              "    <path d=\"M18.56 5.44l.94 2.06.94-2.06 2.06-.94-2.06-.94-.94-2.06-.94 2.06-2.06.94zm-11 1L8.5 8.5l.94-2.06 2.06-.94-2.06-.94L8.5 2.5l-.94 2.06-2.06.94zm10 10l.94 2.06.94-2.06 2.06-.94-2.06-.94-.94-2.06-.94 2.06-2.06.94z\"/><path d=\"M17.41 7.96l-1.37-1.37c-.4-.4-.92-.59-1.43-.59-.52 0-1.04.2-1.43.59L10.3 9.45l-7.72 7.72c-.78.78-.78 2.05 0 2.83L4 21.41c.39.39.9.59 1.41.59.51 0 1.02-.2 1.41-.59l7.78-7.78 2.81-2.81c.8-.78.8-2.07 0-2.86zM5.41 20L4 18.59l7.72-7.72 1.47 1.35L5.41 20z\"/>\n",
              "  </svg>\n",
              "      </button>\n",
              "      \n",
              "  <style>\n",
              "    .colab-df-container {\n",
              "      display:flex;\n",
              "      flex-wrap:wrap;\n",
              "      gap: 12px;\n",
              "    }\n",
              "\n",
              "    .colab-df-convert {\n",
              "      background-color: #E8F0FE;\n",
              "      border: none;\n",
              "      border-radius: 50%;\n",
              "      cursor: pointer;\n",
              "      display: none;\n",
              "      fill: #1967D2;\n",
              "      height: 32px;\n",
              "      padding: 0 0 0 0;\n",
              "      width: 32px;\n",
              "    }\n",
              "\n",
              "    .colab-df-convert:hover {\n",
              "      background-color: #E2EBFA;\n",
              "      box-shadow: 0px 1px 2px rgba(60, 64, 67, 0.3), 0px 1px 3px 1px rgba(60, 64, 67, 0.15);\n",
              "      fill: #174EA6;\n",
              "    }\n",
              "\n",
              "    [theme=dark] .colab-df-convert {\n",
              "      background-color: #3B4455;\n",
              "      fill: #D2E3FC;\n",
              "    }\n",
              "\n",
              "    [theme=dark] .colab-df-convert:hover {\n",
              "      background-color: #434B5C;\n",
              "      box-shadow: 0px 1px 3px 1px rgba(0, 0, 0, 0.15);\n",
              "      filter: drop-shadow(0px 1px 2px rgba(0, 0, 0, 0.3));\n",
              "      fill: #FFFFFF;\n",
              "    }\n",
              "  </style>\n",
              "\n",
              "      <script>\n",
              "        const buttonEl =\n",
              "          document.querySelector('#df-3008dd9d-4685-4a74-89c1-87b27017b611 button.colab-df-convert');\n",
              "        buttonEl.style.display =\n",
              "          google.colab.kernel.accessAllowed ? 'block' : 'none';\n",
              "\n",
              "        async function convertToInteractive(key) {\n",
              "          const element = document.querySelector('#df-3008dd9d-4685-4a74-89c1-87b27017b611');\n",
              "          const dataTable =\n",
              "            await google.colab.kernel.invokeFunction('convertToInteractive',\n",
              "                                                     [key], {});\n",
              "          if (!dataTable) return;\n",
              "\n",
              "          const docLinkHtml = 'Like what you see? Visit the ' +\n",
              "            '<a target=\"_blank\" href=https://colab.research.google.com/notebooks/data_table.ipynb>data table notebook</a>'\n",
              "            + ' to learn more about interactive tables.';\n",
              "          element.innerHTML = '';\n",
              "          dataTable['output_type'] = 'display_data';\n",
              "          await google.colab.output.renderOutput(dataTable, element);\n",
              "          const docLink = document.createElement('div');\n",
              "          docLink.innerHTML = docLinkHtml;\n",
              "          element.appendChild(docLink);\n",
              "        }\n",
              "      </script>\n",
              "    </div>\n",
              "  </div>\n",
              "  "
            ]
          },
          "metadata": {},
          "execution_count": 15
        },
        {
          "output_type": "stream",
          "name": "stdout",
          "text": [
            "time: 71 ms (started: 2023-03-20 22:00:32 +00:00)\n"
          ]
        }
      ]
    },
    {
      "cell_type": "code",
      "source": [
        "report = ProfileReport(AB_NYC, title = 'Airbnb Pricing',explorative=True)"
      ],
      "metadata": {
        "colab": {
          "base_uri": "https://localhost:8080/"
        },
        "id": "850wQfcBFo0e",
        "outputId": "07ba648f-f669-4065-f9b7-7a1b2645c876"
      },
      "execution_count": null,
      "outputs": [
        {
          "output_type": "stream",
          "name": "stdout",
          "text": [
            "time: 11.5 ms (started: 2023-03-20 22:00:44 +00:00)\n"
          ]
        }
      ]
    },
    {
      "cell_type": "code",
      "source": [
        "report.to_file('Project_report.html')"
      ],
      "metadata": {
        "id": "wpEec_wKFzXQ"
      },
      "execution_count": null,
      "outputs": []
    },
    {
      "cell_type": "code",
      "source": [
        "!jupyter nbextension enable --py widgetsnbextension"
      ],
      "metadata": {
        "colab": {
          "base_uri": "https://localhost:8080/"
        },
        "id": "qho7WO6UHQH7",
        "outputId": "648beb49-a057-42ee-f814-da52075bd4bc"
      },
      "execution_count": null,
      "outputs": [
        {
          "output_type": "stream",
          "name": "stdout",
          "text": [
            "Enabling notebook extension jupyter-js-widgets/extension...\n",
            "Paths used for configuration of notebook: \n",
            "    \t/root/.jupyter/nbconfig/notebook.json\n",
            "Paths used for configuration of notebook: \n",
            "    \t\n",
            "      - Validating: \u001b[32mOK\u001b[0m\n",
            "Paths used for configuration of notebook: \n",
            "    \t/root/.jupyter/nbconfig/notebook.json\n",
            "time: 343 ms (started: 2023-03-20 22:01:02 +00:00)\n"
          ]
        }
      ]
    },
    {
      "cell_type": "code",
      "source": [
        "with pd.option_context('display.max_rows', None, 'display.max_columns', None):\n",
        "  print(AB_NYC.columns)"
      ],
      "metadata": {
        "colab": {
          "base_uri": "https://localhost:8080/"
        },
        "id": "Oc_n0qmuHWC_",
        "outputId": "75437fa1-bacf-46fd-c522-315f94b5242c"
      },
      "execution_count": null,
      "outputs": [
        {
          "output_type": "stream",
          "name": "stdout",
          "text": [
            "Index(['source', 'description', 'neighborhood_overview', 'host_since',\n",
            "       'host_location', 'host_about', 'host_response_time',\n",
            "       'host_response_rate', 'host_acceptance_rate', 'host_listings_count',\n",
            "       'host_total_listings_count', 'host_verifications',\n",
            "       'neighbourhood_cleansed', 'neighbourhood_group_cleansed',\n",
            "       'property_type', 'room_type', 'accommodates', 'bathrooms_text',\n",
            "       'bedrooms', 'beds', 'amenities', 'price', 'minimum_nights',\n",
            "       'maximum_nights', 'minimum_minimum_nights', 'maximum_minimum_nights',\n",
            "       'minimum_maximum_nights', 'maximum_maximum_nights',\n",
            "       'minimum_nights_avg_ntm', 'maximum_nights_avg_ntm', 'has_availability',\n",
            "       'availability_30', 'availability_60', 'availability_90',\n",
            "       'availability_365', 'number_of_reviews', 'number_of_reviews_ltm',\n",
            "       'number_of_reviews_l30d', 'review_scores_rating',\n",
            "       'review_scores_accuracy', 'review_scores_cleanliness',\n",
            "       'review_scores_checkin', 'review_scores_communication',\n",
            "       'review_scores_location', 'review_scores_value', 'instant_bookable',\n",
            "       'calculated_host_listings_count',\n",
            "       'calculated_host_listings_count_entire_homes',\n",
            "       'calculated_host_listings_count_private_rooms',\n",
            "       'calculated_host_listings_count_shared_rooms', 'reviews_per_month'],\n",
            "      dtype='object')\n",
            "time: 1.79 ms (started: 2023-03-20 22:01:05 +00:00)\n"
          ]
        }
      ]
    },
    {
      "cell_type": "markdown",
      "source": [
        "Distribution of price using a histogram and we can see it is left skewed"
      ],
      "metadata": {
        "id": "I-kk1TlTJxlc"
      }
    },
    {
      "cell_type": "code",
      "source": [
        "%matplotlib inline\n",
        "AB_NYC.price.hist(bins=(np.arange(start=0, stop=400)), density=True)"
      ],
      "metadata": {
        "colab": {
          "base_uri": "https://localhost:8080/",
          "height": 300
        },
        "id": "5g_HKWNDHpHR",
        "outputId": "94f8b2ea-6d22-4c2a-f756-cc32973bfc8d"
      },
      "execution_count": null,
      "outputs": [
        {
          "output_type": "execute_result",
          "data": {
            "text/plain": [
              "<Axes: >"
            ]
          },
          "metadata": {},
          "execution_count": 20
        },
        {
          "output_type": "display_data",
          "data": {
            "text/plain": [
              "<Figure size 432x288 with 1 Axes>"
            ],
            "image/png": "[encoded data removed]"
          },
          "metadata": {
            "needs_background": "light"
          }
        },
        {
          "output_type": "stream",
          "name": "stdout",
          "text": [
            "time: 3.54 s (started: 2023-03-20 22:01:09 +00:00)\n"
          ]
        }
      ]
    },
    {
      "cell_type": "code",
      "source": [
        "AB_NYC.neighbourhood_cleansed.unique()"
      ],
      "metadata": {
        "id": "IpyZquhnKKzA",
        "colab": {
          "base_uri": "https://localhost:8080/"
        },
        "outputId": "db3e9528-3c28-4ee0-f746-351b6cfc00bf"
      },
      "execution_count": null,
      "outputs": [
        {
          "output_type": "execute_result",
          "data": {
            "text/plain": [
              "array(['Midtown', 'Upper West Side', 'East Harlem', 'Fort Greene',\n",
              "       'Williamsburg', \"Hell's Kitchen\", 'South Slope', 'East Village',\n",
              "       'Bedford-Stuyvesant', 'Long Island City', 'West Village',\n",
              "       'East Flatbush', 'Clinton Hill', 'Lower East Side', 'Chelsea',\n",
              "       'Eastchester', 'Prospect Heights', 'Washington Heights', 'Harlem',\n",
              "       'Sunnyside', 'Park Slope', 'Upper East Side', 'Gowanus',\n",
              "       'Rockaway Beach', 'Greenpoint', 'Ditmars Steinway',\n",
              "       'Middle Village', 'Chinatown', 'Greenwich Village',\n",
              "       'Flatiron District', 'Windsor Terrace', 'Forest Hills',\n",
              "       'Murray Hill', 'Crown Heights', 'Boerum Hill', 'Arrochar',\n",
              "       'East New York', 'Tribeca', 'Emerson Hill', 'Bushwick',\n",
              "       'Rego Park', 'Kensington', 'Astoria', 'Shore Acres', 'Woodside',\n",
              "       'Kips Bay', 'Ridgewood', 'Allerton', 'Prospect-Lefferts Gardens',\n",
              "       'Elmhurst', 'Kingsbridge', 'Gramercy', 'Theater District',\n",
              "       'Richmond Hill', 'Little Italy', 'Brighton Beach', 'Sunset Park',\n",
              "       'Maspeth', 'Jackson Heights', 'Sheepshead Bay', 'Spuyten Duyvil',\n",
              "       'Briarwood', 'Inwood', 'Nolita', 'Battery Park City', 'Gravesend',\n",
              "       'Carroll Gardens', 'SoHo', 'Brooklyn Heights', 'Fort Hamilton',\n",
              "       'Bayside', 'Flushing', 'Mariners Harbor', 'Two Bridges',\n",
              "       'East Elmhurst', 'NoHo', 'Cobble Hill', 'Concord', 'Columbia St',\n",
              "       'Flatbush', 'Downtown Brooklyn', 'Red Hook', 'DUMBO',\n",
              "       'Morningside Heights', 'Financial District', 'City Island',\n",
              "       'Bay Ridge', 'Port Morris', 'Arverne', 'Glendale',\n",
              "       'Williamsbridge', 'Soundview', 'Mott Haven', 'Canarsie',\n",
              "       'Cypress Hills', 'Bronxdale', 'Bensonhurst', 'St. George',\n",
              "       'Borough Park', 'Jamaica', 'Ozone Park', 'Claremont Village',\n",
              "       'Bay Terrace', 'Flatlands', 'University Heights', 'Woodhaven',\n",
              "       'Fordham', 'Clifton', 'Concourse Village', 'Huguenot',\n",
              "       'Brownsville', 'Wakefield', 'Midwood', 'Navy Yard', 'Mount Hope',\n",
              "       'Civic Center', 'Norwood', 'Lighthouse Hill', 'Unionport',\n",
              "       'Randall Manor', 'Clason Point', 'Kew Gardens Hills',\n",
              "       'Jamaica Estates', 'Morris Park', 'East Morrisania',\n",
              "       'Far Rockaway', 'Springfield Gardens', 'Tremont', 'Corona',\n",
              "       'Longwood', 'Manhattan Beach', 'Kew Gardens', 'Stuyvesant Town',\n",
              "       'Marble Hill', 'Vinegar Hill', 'Dongan Hills', 'Roosevelt Island',\n",
              "       'Laurelton', 'Fresh Meadows', 'Howard Beach', 'Great Kills',\n",
              "       'Bellerose', 'Silver Lake', 'Riverdale', 'Queens Village',\n",
              "       'Holliswood', 'Concourse', 'New Brighton', 'St. Albans',\n",
              "       'Baychester', 'Pelham Gardens', 'Stapleton', 'Tompkinsville',\n",
              "       'Richmondtown', 'Olinville', 'Dyker Heights', 'Throgs Neck',\n",
              "       'Coney Island', 'Cambria Heights', 'Highbridge', 'Howland Hook',\n",
              "       'Bath Beach', 'Pelham Bay', 'Edgemere', 'South Beach',\n",
              "       'Castleton Corners', 'Midland Beach', 'South Ozone Park',\n",
              "       'Oakwood', 'Eltingville', 'West Brighton', 'Parkchester',\n",
              "       'Fieldston', 'Mill Basin', 'Whitestone', 'Edenwald', 'Neponsit',\n",
              "       'Westchester Square', 'College Point', 'Rosedale', 'Melrose',\n",
              "       'Van Nest', 'Rosebank', 'Woodlawn', 'Grymes Hill', 'Port Richmond',\n",
              "       'North Riverdale', 'Morrisania', 'Bayswater', 'Bergen Beach',\n",
              "       'New Dorp Beach', 'Douglaston', 'Hollis', 'Schuylerville',\n",
              "       'Belmont', 'Todt Hill', 'Grant City', 'Arden Heights',\n",
              "       'Hunts Point', 'Morris Heights', 'Jamaica Hills', 'Belle Harbor',\n",
              "       'Mount Eden', 'Westerleigh', 'Sea Gate', 'Breezy Point',\n",
              "       'Tottenville', 'Castle Hill', \"Prince's Bay\", 'Graniteville'],\n",
              "      dtype=object)"
            ]
          },
          "metadata": {},
          "execution_count": 21
        },
        {
          "output_type": "stream",
          "name": "stdout",
          "text": [
            "time: 8.09 ms (started: 2023-03-20 22:01:14 +00:00)\n"
          ]
        }
      ]
    },
    {
      "cell_type": "markdown",
      "source": [
        "We converted the host_response_rate to normalize it by dividing it by 100"
      ],
      "metadata": {
        "id": "9U6IxKkxKb5i"
      }
    },
    {
      "cell_type": "code",
      "source": [
        "AB_NYC['host_response_rate'] = AB_NYC['host_response_rate'].astype('float') / 100.0"
      ],
      "metadata": {
        "colab": {
          "base_uri": "https://localhost:8080/"
        },
        "id": "f4aJYXn9KiVM",
        "outputId": "b42188a8-9fc5-460a-e523-ff342902ebdc"
      },
      "execution_count": null,
      "outputs": [
        {
          "output_type": "stream",
          "name": "stdout",
          "text": [
            "time: 67.3 ms (started: 2023-03-20 22:01:17 +00:00)\n"
          ]
        }
      ]
    },
    {
      "cell_type": "code",
      "source": [
        "AB_NYC.shape"
      ],
      "metadata": {
        "colab": {
          "base_uri": "https://localhost:8080/"
        },
        "id": "CCEg5JDxKzdM",
        "outputId": "78af713f-0920-41e9-ae6d-7f0c88be0869"
      },
      "execution_count": null,
      "outputs": [
        {
          "output_type": "execute_result",
          "data": {
            "text/plain": [
              "(15944, 51)"
            ]
          },
          "metadata": {},
          "execution_count": 23
        },
        {
          "output_type": "stream",
          "name": "stdout",
          "text": [
            "time: 2.92 ms (started: 2023-03-20 22:01:20 +00:00)\n"
          ]
        }
      ]
    },
    {
      "cell_type": "code",
      "source": [
        "%matplotlib inline\n",
        "plots_attr =['price','beds','number_of_reviews','accommodates','review_scores_rating']\n",
        "data_scatter = AB_NYC.reindex(columns=plots_attr)\n",
        "pd.plotting.scatter_matrix(data_scatter,c='blue')"
      ],
      "metadata": {
        "colab": {
          "base_uri": "https://localhost:8080/",
          "height": 597
        },
        "id": "lY32ktb7K8rj",
        "outputId": "781d01e8-0ac3-425c-bd3f-517a60cbd48e"
      },
      "execution_count": null,
      "outputs": [
        {
          "output_type": "execute_result",
          "data": {
            "text/plain": [
              "array([[<Axes: xlabel='beds', ylabel='beds'>,\n",
              "        <Axes: xlabel='number_of_reviews', ylabel='beds'>,\n",
              "        <Axes: xlabel='accommodates', ylabel='beds'>,\n",
              "        <Axes: xlabel='review_scores_rating', ylabel='beds'>],\n",
              "       [<Axes: xlabel='beds', ylabel='number_of_reviews'>,\n",
              "        <Axes: xlabel='number_of_reviews', ylabel='number_of_reviews'>,\n",
              "        <Axes: xlabel='accommodates', ylabel='number_of_reviews'>,\n",
              "        <Axes: xlabel='review_scores_rating', ylabel='number_of_reviews'>],\n",
              "       [<Axes: xlabel='beds', ylabel='accommodates'>,\n",
              "        <Axes: xlabel='number_of_reviews', ylabel='accommodates'>,\n",
              "        <Axes: xlabel='accommodates', ylabel='accommodates'>,\n",
              "        <Axes: xlabel='review_scores_rating', ylabel='accommodates'>],\n",
              "       [<Axes: xlabel='beds', ylabel='review_scores_rating'>,\n",
              "        <Axes: xlabel='number_of_reviews', ylabel='review_scores_rating'>,\n",
              "        <Axes: xlabel='accommodates', ylabel='review_scores_rating'>,\n",
              "        <Axes: xlabel='review_scores_rating', ylabel='review_scores_rating'>]],\n",
              "      dtype=object)"
            ]
          },
          "metadata": {},
          "execution_count": 24
        },
        {
          "output_type": "display_data",
          "data": {
            "text/plain": [
              "<Figure size 432x288 with 16 Axes>"
            ],
            "image/png": "[encoded data removed]"
          },
          "metadata": {
            "needs_background": "light"
          }
        },
        {
          "output_type": "stream",
          "name": "stdout",
          "text": [
            "time: 2.61 s (started: 2023-03-20 22:01:21 +00:00)\n"
          ]
        }
      ]
    },
    {
      "cell_type": "markdown",
      "source": [
        "We tried to find correlation between some of the attributes, and we see that beds and accomodates have a linear relation"
      ],
      "metadata": {
        "id": "vspqXk3PLLQx"
      }
    },
    {
      "cell_type": "code",
      "source": [
        "#Convert String columns to numeric\n",
        "AB_NYC[['host_response_rate','price','host_acceptance_rate']] = AB_NYC[['host_response_rate','price', 'host_acceptance_rate']].apply(pd.to_numeric)\n",
        "df_numeric = AB_NYC.select_dtypes(include=np.number)\n",
        "for col in df_numeric.columns:\n",
        "  AB_NYC[col].fillna(AB_NYC[col].mean(), inplace= True)"
      ],
      "metadata": {
        "colab": {
          "base_uri": "https://localhost:8080/"
        },
        "id": "L7wlBxJYLVjn",
        "outputId": "53dbb975-6609-4054-ce98-a9382d559597"
      },
      "execution_count": null,
      "outputs": [
        {
          "output_type": "stream",
          "name": "stdout",
          "text": [
            "time: 47.4 ms (started: 2023-03-20 22:01:25 +00:00)\n"
          ]
        }
      ]
    },
    {
      "cell_type": "code",
      "source": [
        "df_numeric.isna().sum()"
      ],
      "metadata": {
        "colab": {
          "base_uri": "https://localhost:8080/"
        },
        "id": "lV0_yjDiMVkO",
        "outputId": "ebbbcad9-1b2f-4a15-8b6c-7d7a6ca6dbd8"
      },
      "execution_count": null,
      "outputs": [
        {
          "output_type": "execute_result",
          "data": {
            "text/plain": [
              "host_response_rate                              5394\n",
              "host_acceptance_rate                            4659\n",
              "host_listings_count                                0\n",
              "host_total_listings_count                          0\n",
              "accommodates                                       0\n",
              "bedrooms                                        1404\n",
              "beds                                               0\n",
              "price                                              0\n",
              "minimum_nights                                     0\n",
              "maximum_nights                                     0\n",
              "minimum_minimum_nights                             0\n",
              "maximum_minimum_nights                             0\n",
              "minimum_maximum_nights                             0\n",
              "maximum_maximum_nights                             0\n",
              "minimum_nights_avg_ntm                             0\n",
              "maximum_nights_avg_ntm                             0\n",
              "has_availability                                   0\n",
              "availability_30                                    0\n",
              "availability_60                                    0\n",
              "availability_90                                    0\n",
              "availability_365                                   0\n",
              "number_of_reviews                                  0\n",
              "number_of_reviews_ltm                              0\n",
              "number_of_reviews_l30d                             0\n",
              "review_scores_rating                               0\n",
              "review_scores_accuracy                           150\n",
              "review_scores_cleanliness                        145\n",
              "review_scores_checkin                            153\n",
              "review_scores_communication                      148\n",
              "review_scores_location                           155\n",
              "review_scores_value                              155\n",
              "instant_bookable                                   0\n",
              "calculated_host_listings_count                     0\n",
              "calculated_host_listings_count_entire_homes        0\n",
              "calculated_host_listings_count_private_rooms       0\n",
              "calculated_host_listings_count_shared_rooms        0\n",
              "reviews_per_month                                  0\n",
              "dtype: int64"
            ]
          },
          "metadata": {},
          "execution_count": 26
        },
        {
          "output_type": "stream",
          "name": "stdout",
          "text": [
            "time: 11.5 ms (started: 2023-03-20 22:01:27 +00:00)\n"
          ]
        }
      ]
    },
    {
      "cell_type": "markdown",
      "source": [
        "Convert selected strings values fromc ategorical to numerical using one hot encoding by using pandas dummies"
      ],
      "metadata": {
        "id": "O5dK5m1EMZgi"
      }
    },
    {
      "cell_type": "code",
      "source": [
        "#One hot encoding by creating dummy variables for categorical column\n",
        "categorical_cols = ['property_type','room_type','bed_type','cancellation_policy','host_response_time']\n",
        "data_cat = AB_NYC.reindex(columns = categorical_cols)\n",
        "data_dummies = pd.get_dummies(data_cat, columns = categorical_cols)\n",
        "AB_NYC = pd.concat([AB_NYC, data_dummies], axis = 1)"
      ],
      "metadata": {
        "colab": {
          "base_uri": "https://localhost:8080/"
        },
        "id": "Vu8_hjt_MhNZ",
        "outputId": "a034a7e1-ff61-427f-f7f1-ee392a685c63"
      },
      "execution_count": null,
      "outputs": [
        {
          "output_type": "stream",
          "name": "stdout",
          "text": [
            "time: 59 ms (started: 2023-03-20 22:01:30 +00:00)\n"
          ]
        }
      ]
    },
    {
      "cell_type": "markdown",
      "source": [
        "We will visulaize the disribution density of different room types after converting to numeric using dummies above and the below three charts describe the distribution of the room type in the neighbourhood vs Price"
      ],
      "metadata": {
        "id": "DiliuvX5NPK9"
      }
    },
    {
      "cell_type": "code",
      "source": [
        "#using violinplot to showcase density and distribtuion of prices \n",
        "viz_2=sns.violinplot(data=AB_NYC[AB_NYC['room_type_Entire home/apt']==1], x='neighbourhood_group_cleansed', y='price')\n",
        "viz_2.set_title('Distribution of prices for each neighberhood_group for room_type_Entire home/apt ')"
      ],
      "metadata": {
        "colab": {
          "base_uri": "https://localhost:8080/",
          "height": 331
        },
        "id": "J88y02-xNKSB",
        "outputId": "5d4ec4fc-f2a0-4f3d-b9e7-500ddc8165d6"
      },
      "execution_count": null,
      "outputs": [
        {
          "output_type": "execute_result",
          "data": {
            "text/plain": [
              "Text(0.5, 1.0, 'Distribution of prices for each neighberhood_group for room_type_Entire home/apt ')"
            ]
          },
          "metadata": {},
          "execution_count": 28
        },
        {
          "output_type": "display_data",
          "data": {
            "text/plain": [
              "<Figure size 432x288 with 1 Axes>"
            ],
            "image/png": "[encoded data removed]"
          },
          "metadata": {
            "needs_background": "light"
          }
        },
        {
          "output_type": "stream",
          "name": "stdout",
          "text": [
            "time: 434 ms (started: 2023-03-20 22:01:31 +00:00)\n"
          ]
        }
      ]
    },
    {
      "cell_type": "code",
      "source": [
        "#using violinplot to showcase density and distribtuion of prices \n",
        "viz_2=sns.violinplot(data=AB_NYC[AB_NYC['room_type_Hotel room']==1], x='neighbourhood_group_cleansed', y='price')\n",
        "viz_2.set_title('Distribution of prices for each neighberhood_group for room_type_Hotel room')"
      ],
      "metadata": {
        "colab": {
          "base_uri": "https://localhost:8080/",
          "height": 331
        },
        "id": "rMtEnl-HNMzT",
        "outputId": "840dec29-74de-49de-f74f-9975326c958c"
      },
      "execution_count": null,
      "outputs": [
        {
          "output_type": "execute_result",
          "data": {
            "text/plain": [
              "Text(0.5, 1.0, 'Distribution of prices for each neighberhood_group for room_type_Hotel room')"
            ]
          },
          "metadata": {},
          "execution_count": 29
        },
        {
          "output_type": "display_data",
          "data": {
            "text/plain": [
              "<Figure size 432x288 with 1 Axes>"
            ],
            "image/png": "[encoded data removed]"
          },
          "metadata": {
            "needs_background": "light"
          }
        },
        {
          "output_type": "stream",
          "name": "stdout",
          "text": [
            "time: 331 ms (started: 2023-03-20 22:01:34 +00:00)\n"
          ]
        }
      ]
    },
    {
      "cell_type": "code",
      "source": [
        "#using violinplot to showcase density and distribtuion of prices \n",
        "viz_2=sns.violinplot(data=AB_NYC[AB_NYC['room_type_Private room']==1], x='neighbourhood_group_cleansed', y='price')\n",
        "viz_2.set_title('Distribution of prices for each neighbourhood_group for room_type_Private room')"
      ],
      "metadata": {
        "colab": {
          "base_uri": "https://localhost:8080/",
          "height": 331
        },
        "id": "9fAEeiYcNWMX",
        "outputId": "4aae90a9-d640-4ca0-97d0-3f22ec634759"
      },
      "execution_count": null,
      "outputs": [
        {
          "output_type": "execute_result",
          "data": {
            "text/plain": [
              "Text(0.5, 1.0, 'Distribution of prices for each neighbourhood_group for room_type_Private room')"
            ]
          },
          "metadata": {},
          "execution_count": 30
        },
        {
          "output_type": "display_data",
          "data": {
            "text/plain": [
              "<Figure size 432x288 with 1 Axes>"
            ],
            "image/png": "[encoded data removed]"
          },
          "metadata": {
            "needs_background": "light"
          }
        },
        {
          "output_type": "stream",
          "name": "stdout",
          "text": [
            "time: 391 ms (started: 2023-03-20 22:01:36 +00:00)\n"
          ]
        }
      ]
    },
    {
      "cell_type": "code",
      "source": [
        "#using violinplot to showcase density and distribtuion of prices \n",
        "viz_2=sns.violinplot(data=AB_NYC[AB_NYC['room_type_Private room']==1], x='neighbourhood_group_cleansed', y='price')\n",
        "viz_2.set_title('Density and distribution of prices for each neighbourhood_group')"
      ],
      "metadata": {
        "colab": {
          "base_uri": "https://localhost:8080/",
          "height": 331
        },
        "id": "J5VjKOhzNYH6",
        "outputId": "31a2824d-ffc4-40ed-9224-82b2249ef808"
      },
      "execution_count": null,
      "outputs": [
        {
          "output_type": "execute_result",
          "data": {
            "text/plain": [
              "Text(0.5, 1.0, 'Density and distribution of prices for each neighbourhood_group')"
            ]
          },
          "metadata": {},
          "execution_count": 31
        },
        {
          "output_type": "display_data",
          "data": {
            "text/plain": [
              "<Figure size 432x288 with 1 Axes>"
            ],
            "image/png": "[encoded data removed]"
          },
          "metadata": {
            "needs_background": "light"
          }
        },
        {
          "output_type": "stream",
          "name": "stdout",
          "text": [
            "time: 592 ms (started: 2023-03-20 22:01:39 +00:00)\n"
          ]
        }
      ]
    },
    {
      "cell_type": "code",
      "source": [
        "#Dropping the duplicate columns after creating dummy variables\n",
        "drop_columns = ['neighbourhood_group_cleansed','property_type','room_type','host_response_time']\n",
        "AB_NYC.reindex(columns=drop_columns)\n",
        "AB_NYC = AB_NYC.drop(columns=drop_columns)"
      ],
      "metadata": {
        "colab": {
          "base_uri": "https://localhost:8080/"
        },
        "id": "sXYVPtXGNs4-",
        "outputId": "59939bc8-9bba-4e6f-ac6a-4c124aff96db"
      },
      "execution_count": null,
      "outputs": [
        {
          "output_type": "stream",
          "name": "stdout",
          "text": [
            "time: 13.4 ms (started: 2023-03-20 22:01:42 +00:00)\n"
          ]
        }
      ]
    },
    {
      "cell_type": "code",
      "source": [
        "#To separate the numeric columns in dataset\n",
        "df_numeric = AB_NYC.select_dtypes(include=np.number)"
      ],
      "metadata": {
        "colab": {
          "base_uri": "https://localhost:8080/"
        },
        "id": "KsG5UQ02OPQl",
        "outputId": "43b9c943-02b7-45a0-d2bf-0144ab6a42ee"
      },
      "execution_count": null,
      "outputs": [
        {
          "output_type": "stream",
          "name": "stdout",
          "text": [
            "time: 3.44 ms (started: 2023-03-20 22:01:45 +00:00)\n"
          ]
        }
      ]
    },
    {
      "cell_type": "code",
      "source": [
        "#To separate the string column in dataset\n",
        "df_str = AB_NYC.select_dtypes(include = object)"
      ],
      "metadata": {
        "colab": {
          "base_uri": "https://localhost:8080/"
        },
        "id": "NiXbe596OZr9",
        "outputId": "24c63de8-8b6b-450d-a90f-148516f468bc"
      },
      "execution_count": null,
      "outputs": [
        {
          "output_type": "stream",
          "name": "stdout",
          "text": [
            "time: 3.72 ms (started: 2023-03-20 22:01:47 +00:00)\n"
          ]
        }
      ]
    },
    {
      "cell_type": "code",
      "source": [
        "df_numeric.info()"
      ],
      "metadata": {
        "colab": {
          "base_uri": "https://localhost:8080/"
        },
        "id": "EneQkFRlOi6E",
        "outputId": "19af9f4f-376d-41dd-ce47-d9d73a63a8e5"
      },
      "execution_count": null,
      "outputs": [
        {
          "output_type": "stream",
          "name": "stdout",
          "text": [
            "<class 'pandas.core.frame.DataFrame'>\n",
            "Int64Index: 15944 entries, 0 to 40760\n",
            "Data columns (total 97 columns):\n",
            " #   Column                                            Non-Null Count  Dtype  \n",
            "---  ------                                            --------------  -----  \n",
            " 0   host_response_rate                                15944 non-null  float64\n",
            " 1   host_acceptance_rate                              15944 non-null  float64\n",
            " 2   host_listings_count                               15944 non-null  float64\n",
            " 3   host_total_listings_count                         15944 non-null  float64\n",
            " 4   accommodates                                      15944 non-null  int64  \n",
            " 5   bedrooms                                          15944 non-null  float64\n",
            " 6   beds                                              15944 non-null  float64\n",
            " 7   price                                             15944 non-null  float64\n",
            " 8   minimum_nights                                    15944 non-null  int64  \n",
            " 9   maximum_nights                                    15944 non-null  int64  \n",
            " 10  minimum_minimum_nights                            15944 non-null  float64\n",
            " 11  maximum_minimum_nights                            15944 non-null  float64\n",
            " 12  minimum_maximum_nights                            15944 non-null  float64\n",
            " 13  maximum_maximum_nights                            15944 non-null  float64\n",
            " 14  minimum_nights_avg_ntm                            15944 non-null  float64\n",
            " 15  maximum_nights_avg_ntm                            15944 non-null  float64\n",
            " 16  has_availability                                  15944 non-null  int64  \n",
            " 17  availability_30                                   15944 non-null  int64  \n",
            " 18  availability_60                                   15944 non-null  int64  \n",
            " 19  availability_90                                   15944 non-null  int64  \n",
            " 20  availability_365                                  15944 non-null  int64  \n",
            " 21  number_of_reviews                                 15944 non-null  int64  \n",
            " 22  number_of_reviews_ltm                             15944 non-null  int64  \n",
            " 23  number_of_reviews_l30d                            15944 non-null  int64  \n",
            " 24  review_scores_rating                              15944 non-null  float64\n",
            " 25  review_scores_accuracy                            15944 non-null  float64\n",
            " 26  review_scores_cleanliness                         15944 non-null  float64\n",
            " 27  review_scores_checkin                             15944 non-null  float64\n",
            " 28  review_scores_communication                       15944 non-null  float64\n",
            " 29  review_scores_location                            15944 non-null  float64\n",
            " 30  review_scores_value                               15944 non-null  float64\n",
            " 31  instant_bookable                                  15944 non-null  int64  \n",
            " 32  calculated_host_listings_count                    15944 non-null  int64  \n",
            " 33  calculated_host_listings_count_entire_homes       15944 non-null  int64  \n",
            " 34  calculated_host_listings_count_private_rooms      15944 non-null  int64  \n",
            " 35  calculated_host_listings_count_shared_rooms       15944 non-null  int64  \n",
            " 36  reviews_per_month                                 15944 non-null  float64\n",
            " 37  property_type_Barn                                15944 non-null  uint8  \n",
            " 38  property_type_Boat                                15944 non-null  uint8  \n",
            " 39  property_type_Camper/RV                           15944 non-null  uint8  \n",
            " 40  property_type_Casa particular                     15944 non-null  uint8  \n",
            " 41  property_type_Cave                                15944 non-null  uint8  \n",
            " 42  property_type_Entire bungalow                     15944 non-null  uint8  \n",
            " 43  property_type_Entire condo                        15944 non-null  uint8  \n",
            " 44  property_type_Entire cottage                      15944 non-null  uint8  \n",
            " 45  property_type_Entire guest suite                  15944 non-null  uint8  \n",
            " 46  property_type_Entire guesthouse                   15944 non-null  uint8  \n",
            " 47  property_type_Entire home                         15944 non-null  uint8  \n",
            " 48  property_type_Entire loft                         15944 non-null  uint8  \n",
            " 49  property_type_Entire place                        15944 non-null  uint8  \n",
            " 50  property_type_Entire rental unit                  15944 non-null  uint8  \n",
            " 51  property_type_Entire serviced apartment           15944 non-null  uint8  \n",
            " 52  property_type_Entire townhouse                    15944 non-null  uint8  \n",
            " 53  property_type_Entire vacation home                15944 non-null  uint8  \n",
            " 54  property_type_Entire villa                        15944 non-null  uint8  \n",
            " 55  property_type_Floor                               15944 non-null  uint8  \n",
            " 56  property_type_Houseboat                           15944 non-null  uint8  \n",
            " 57  property_type_Lighthouse                          15944 non-null  uint8  \n",
            " 58  property_type_Private room                        15944 non-null  uint8  \n",
            " 59  property_type_Private room in bed and breakfast   15944 non-null  uint8  \n",
            " 60  property_type_Private room in bungalow            15944 non-null  uint8  \n",
            " 61  property_type_Private room in camper/rv           15944 non-null  uint8  \n",
            " 62  property_type_Private room in casa particular     15944 non-null  uint8  \n",
            " 63  property_type_Private room in condo               15944 non-null  uint8  \n",
            " 64  property_type_Private room in earthen home        15944 non-null  uint8  \n",
            " 65  property_type_Private room in guest suite         15944 non-null  uint8  \n",
            " 66  property_type_Private room in guesthouse          15944 non-null  uint8  \n",
            " 67  property_type_Private room in home                15944 non-null  uint8  \n",
            " 68  property_type_Private room in hostel              15944 non-null  uint8  \n",
            " 69  property_type_Private room in loft                15944 non-null  uint8  \n",
            " 70  property_type_Private room in rental unit         15944 non-null  uint8  \n",
            " 71  property_type_Private room in resort              15944 non-null  uint8  \n",
            " 72  property_type_Private room in serviced apartment  15944 non-null  uint8  \n",
            " 73  property_type_Private room in tiny home           15944 non-null  uint8  \n",
            " 74  property_type_Private room in townhouse           15944 non-null  uint8  \n",
            " 75  property_type_Private room in vacation home       15944 non-null  uint8  \n",
            " 76  property_type_Private room in villa               15944 non-null  uint8  \n",
            " 77  property_type_Room in aparthotel                  15944 non-null  uint8  \n",
            " 78  property_type_Room in boutique hotel              15944 non-null  uint8  \n",
            " 79  property_type_Room in hotel                       15944 non-null  uint8  \n",
            " 80  property_type_Room in serviced apartment          15944 non-null  uint8  \n",
            " 81  property_type_Shared room in condo                15944 non-null  uint8  \n",
            " 82  property_type_Shared room in guesthouse           15944 non-null  uint8  \n",
            " 83  property_type_Shared room in home                 15944 non-null  uint8  \n",
            " 84  property_type_Shared room in loft                 15944 non-null  uint8  \n",
            " 85  property_type_Shared room in rental unit          15944 non-null  uint8  \n",
            " 86  property_type_Shared room in serviced apartment   15944 non-null  uint8  \n",
            " 87  property_type_Shared room in townhouse            15944 non-null  uint8  \n",
            " 88  property_type_Tiny home                           15944 non-null  uint8  \n",
            " 89  room_type_Entire home/apt                         15944 non-null  uint8  \n",
            " 90  room_type_Hotel room                              15944 non-null  uint8  \n",
            " 91  room_type_Private room                            15944 non-null  uint8  \n",
            " 92  room_type_Shared room                             15944 non-null  uint8  \n",
            " 93  host_response_time_a few days or more             15944 non-null  uint8  \n",
            " 94  host_response_time_within a day                   15944 non-null  uint8  \n",
            " 95  host_response_time_within a few hours             15944 non-null  uint8  \n",
            " 96  host_response_time_within an hour                 15944 non-null  uint8  \n",
            "dtypes: float64(21), int64(16), uint8(60)\n",
            "memory usage: 5.5 MB\n",
            "time: 25.7 ms (started: 2023-03-20 22:01:49 +00:00)\n"
          ]
        }
      ]
    },
    {
      "cell_type": "code",
      "source": [
        "df_numeric = df_numeric.sample(frac=0.2, replace=True, random_state=1)"
      ],
      "metadata": {
        "colab": {
          "base_uri": "https://localhost:8080/"
        },
        "id": "kKHcpx4FOqlm",
        "outputId": "904c09b5-6f80-4d5a-9f11-bbf9deb32970"
      },
      "execution_count": null,
      "outputs": [
        {
          "output_type": "stream",
          "name": "stdout",
          "text": [
            "time: 7.45 ms (started: 2023-03-20 22:01:52 +00:00)\n"
          ]
        }
      ]
    },
    {
      "cell_type": "markdown",
      "source": [
        "Splitting the data into traning(80%) and testing(20%)"
      ],
      "metadata": {
        "id": "S2UKXTo0Ouj1"
      }
    },
    {
      "cell_type": "code",
      "source": [
        "X_train, X_test, y_train, y_test = train_test_split(df_numeric.drop(columns = 'price',axis=1),df_numeric.price, \n",
        "                                                    test_size = 0.2,\n",
        "                                                   random_state = 123)"
      ],
      "metadata": {
        "colab": {
          "base_uri": "https://localhost:8080/"
        },
        "id": "iJSQb283O0e1",
        "outputId": "e7ab85f2-1f89-473d-84a6-cae729ae33c8"
      },
      "execution_count": null,
      "outputs": [
        {
          "output_type": "stream",
          "name": "stdout",
          "text": [
            "time: 8.79 ms (started: 2023-03-20 22:01:54 +00:00)\n"
          ]
        }
      ]
    },
    {
      "cell_type": "markdown",
      "source": [
        "Scaling the data so that the variance is 1 and mean becomes 0"
      ],
      "metadata": {
        "id": "bP7EHfy8O4Rl"
      }
    },
    {
      "cell_type": "code",
      "source": [
        "from sklearn.preprocessing import StandardScaler\n",
        "scaler = StandardScaler()\n",
        "scaler.fit(X_train)\n",
        "X_train_scaled = scaler.transform(X_train)\n",
        "X_test_scaled = scaler.transform(X_test)"
      ],
      "metadata": {
        "colab": {
          "base_uri": "https://localhost:8080/"
        },
        "id": "SXvT0eOZO8dD",
        "outputId": "654b3972-4784-4b38-ddf5-e93d805b0bdf"
      },
      "execution_count": null,
      "outputs": [
        {
          "output_type": "stream",
          "name": "stdout",
          "text": [
            "time: 19.2 ms (started: 2023-03-20 22:01:56 +00:00)\n"
          ]
        }
      ]
    },
    {
      "cell_type": "markdown",
      "source": [
        "We will perform PCA so that we will retain 90% variance and this is help us to get the most coreralted features and hence redeuce the number of features to tbe trained for our final model"
      ],
      "metadata": {
        "id": "wuBdu8l6PAoR"
      }
    },
    {
      "cell_type": "code",
      "source": [
        "np.any(np.isnan(X_train))\n"
      ],
      "metadata": {
        "colab": {
          "base_uri": "https://localhost:8080/"
        },
        "id": "zKo9NuyDP5Dp",
        "outputId": "3d78d9c0-844a-4852-e252-ac56fbdf7497"
      },
      "execution_count": null,
      "outputs": [
        {
          "output_type": "execute_result",
          "data": {
            "text/plain": [
              "False"
            ]
          },
          "metadata": {},
          "execution_count": 39
        },
        {
          "output_type": "stream",
          "name": "stdout",
          "text": [
            "time: 6.16 ms (started: 2023-03-20 22:02:00 +00:00)\n"
          ]
        }
      ]
    },
    {
      "cell_type": "code",
      "source": [
        "#Selection features that exlain atleast 90% of the target variance\n",
        "from sklearn.decomposition import PCA\n",
        "pca = PCA(0.90)\n",
        "pca.fit(X_train_scaled)"
      ],
      "metadata": {
        "colab": {
          "base_uri": "https://localhost:8080/",
          "height": 91
        },
        "id": "ZCEC0NrGPBmt",
        "outputId": "954eab27-aadd-4399-b244-772a667b61b8"
      },
      "execution_count": null,
      "outputs": [
        {
          "output_type": "execute_result",
          "data": {
            "text/plain": [
              "PCA(n_components=0.9)"
            ],
            "text/html": [
              "<style>#sk-container-id-1 {color: black;background-color: white;}#sk-container-id-1 pre{padding: 0;}#sk-container-id-1 div.sk-toggleable {background-color: white;}#sk-container-id-1 label.sk-toggleable__label {cursor: pointer;display: block;width: 100%;margin-bottom: 0;padding: 0.3em;box-sizing: border-box;text-align: center;}#sk-container-id-1 label.sk-toggleable__label-arrow:before {content: \"▸\";float: left;margin-right: 0.25em;color: #696969;}#sk-container-id-1 label.sk-toggleable__label-arrow:hover:before {color: black;}#sk-container-id-1 div.sk-estimator:hover label.sk-toggleable__label-arrow:before {color: black;}#sk-container-id-1 div.sk-toggleable__content {max-height: 0;max-width: 0;overflow: hidden;text-align: left;background-color: #f0f8ff;}#sk-container-id-1 div.sk-toggleable__content pre {margin: 0.2em;color: black;border-radius: 0.25em;background-color: #f0f8ff;}#sk-container-id-1 input.sk-toggleable__control:checked~div.sk-toggleable__content {max-height: 200px;max-width: 100%;overflow: auto;}#sk-container-id-1 input.sk-toggleable__control:checked~label.sk-toggleable__label-arrow:before {content: \"▾\";}#sk-container-id-1 div.sk-estimator input.sk-toggleable__control:checked~label.sk-toggleable__label {background-color: #d4ebff;}#sk-container-id-1 div.sk-label input.sk-toggleable__control:checked~label.sk-toggleable__label {background-color: #d4ebff;}#sk-container-id-1 input.sk-hidden--visually {border: 0;clip: rect(1px 1px 1px 1px);clip: rect(1px, 1px, 1px, 1px);height: 1px;margin: -1px;overflow: hidden;padding: 0;position: absolute;width: 1px;}#sk-container-id-1 div.sk-estimator {font-family: monospace;background-color: #f0f8ff;border: 1px dotted black;border-radius: 0.25em;box-sizing: border-box;margin-bottom: 0.5em;}#sk-container-id-1 div.sk-estimator:hover {background-color: #d4ebff;}#sk-container-id-1 div.sk-parallel-item::after {content: \"\";width: 100%;border-bottom: 1px solid gray;flex-grow: 1;}#sk-container-id-1 div.sk-label:hover label.sk-toggleable__label {background-color: #d4ebff;}#sk-container-id-1 div.sk-serial::before {content: \"\";position: absolute;border-left: 1px solid gray;box-sizing: border-box;top: 0;bottom: 0;left: 50%;z-index: 0;}#sk-container-id-1 div.sk-serial {display: flex;flex-direction: column;align-items: center;background-color: white;padding-right: 0.2em;padding-left: 0.2em;position: relative;}#sk-container-id-1 div.sk-item {position: relative;z-index: 1;}#sk-container-id-1 div.sk-parallel {display: flex;align-items: stretch;justify-content: center;background-color: white;position: relative;}#sk-container-id-1 div.sk-item::before, #sk-container-id-1 div.sk-parallel-item::before {content: \"\";position: absolute;border-left: 1px solid gray;box-sizing: border-box;top: 0;bottom: 0;left: 50%;z-index: -1;}#sk-container-id-1 div.sk-parallel-item {display: flex;flex-direction: column;z-index: 1;position: relative;background-color: white;}#sk-container-id-1 div.sk-parallel-item:first-child::after {align-self: flex-end;width: 50%;}#sk-container-id-1 div.sk-parallel-item:last-child::after {align-self: flex-start;width: 50%;}#sk-container-id-1 div.sk-parallel-item:only-child::after {width: 0;}#sk-container-id-1 div.sk-dashed-wrapped {border: 1px dashed gray;margin: 0 0.4em 0.5em 0.4em;box-sizing: border-box;padding-bottom: 0.4em;background-color: white;}#sk-container-id-1 div.sk-label label {font-family: monospace;font-weight: bold;display: inline-block;line-height: 1.2em;}#sk-container-id-1 div.sk-label-container {text-align: center;}#sk-container-id-1 div.sk-container {/* jupyter's `normalize.less` sets `[hidden] { display: none; }` but bootstrap.min.css set `[hidden] { display: none !important; }` so we also need the `!important` here to be able to override the default hidden behavior on the sphinx rendered scikit-learn.org. See: https://github.com/scikit-learn/scikit-learn/issues/21755 */display: inline-block !important;position: relative;}#sk-container-id-1 div.sk-text-repr-fallback {display: none;}</style><div id=\"sk-container-id-1\" class=\"sk-top-container\"><div class=\"sk-text-repr-fallback\"><pre>PCA(n_components=0.9)</pre><b>In a Jupyter environment, please rerun this cell to show the HTML representation or trust the notebook. <br />On GitHub, the HTML representation is unable to render, please try loading this page with nbviewer.org.</b></div><div class=\"sk-container\" hidden><div class=\"sk-item\"><div class=\"sk-estimator sk-toggleable\"><input class=\"sk-toggleable__control sk-hidden--visually\" id=\"sk-estimator-id-1\" type=\"checkbox\" checked><label for=\"sk-estimator-id-1\" class=\"sk-toggleable__label sk-toggleable__label-arrow\">PCA</label><div class=\"sk-toggleable__content\"><pre>PCA(n_components=0.9)</pre></div></div></div></div></div>"
            ]
          },
          "metadata": {},
          "execution_count": 40
        },
        {
          "output_type": "stream",
          "name": "stdout",
          "text": [
            "time: 167 ms (started: 2023-03-20 22:02:01 +00:00)\n"
          ]
        }
      ]
    },
    {
      "cell_type": "code",
      "source": [
        "pca.n_components_"
      ],
      "metadata": {
        "colab": {
          "base_uri": "https://localhost:8080/"
        },
        "id": "tQV6DrS3PETO",
        "outputId": "fcf70072-f0f4-4eda-a123-6b560d3924de"
      },
      "execution_count": null,
      "outputs": [
        {
          "output_type": "execute_result",
          "data": {
            "text/plain": [
              "43"
            ]
          },
          "metadata": {},
          "execution_count": 41
        },
        {
          "output_type": "stream",
          "name": "stdout",
          "text": [
            "time: 5.38 ms (started: 2023-03-20 22:02:04 +00:00)\n"
          ]
        }
      ]
    },
    {
      "cell_type": "code",
      "source": [
        "X_train  = pca.transform(X_train_scaled)\n",
        "X_test = pca.transform(X_test_scaled)"
      ],
      "metadata": {
        "colab": {
          "base_uri": "https://localhost:8080/"
        },
        "id": "GkO8AbMFPF48",
        "outputId": "670259ff-eb55-4088-e0e4-b76f81aaedb6"
      },
      "execution_count": null,
      "outputs": [
        {
          "output_type": "stream",
          "name": "stdout",
          "text": [
            "time: 15.7 ms (started: 2023-03-20 22:02:06 +00:00)\n"
          ]
        }
      ]
    },
    {
      "cell_type": "code",
      "source": [
        "#this is to perform PCA on our data \n",
        "plt.plot(np.cumsum(pca.explained_variance_ratio_))\n",
        "plt.title('Principal Component Analysis to reduce variables')\n",
        "plt.xlabel('number of components')\n",
        "plt.ylabel('cumulative explained variance')"
      ],
      "metadata": {
        "colab": {
          "base_uri": "https://localhost:8080/",
          "height": 330
        },
        "id": "obDtHKhyPH5f",
        "outputId": "e356057b-7217-47d5-fc07-dd717256674f"
      },
      "execution_count": null,
      "outputs": [
        {
          "output_type": "execute_result",
          "data": {
            "text/plain": [
              "Text(0, 0.5, 'cumulative explained variance')"
            ]
          },
          "metadata": {},
          "execution_count": 43
        },
        {
          "output_type": "display_data",
          "data": {
            "text/plain": [
              "<Figure size 432x288 with 1 Axes>"
            ],
            "image/png": "[encoded data removed]"
          },
          "metadata": {
            "needs_background": "light"
          }
        },
        {
          "output_type": "stream",
          "name": "stdout",
          "text": [
            "time: 363 ms (started: 2023-03-20 22:02:08 +00:00)\n"
          ]
        }
      ]
    },
    {
      "cell_type": "code",
      "source": [
        "from sklearn.linear_model import *\n",
        "from sklearn.svm import *\n",
        "from sklearn.metrics import *\n",
        "from sklearn import ensemble\n",
        "from sklearn import linear_model\n",
        "from sklearn import metrics"
      ],
      "metadata": {
        "colab": {
          "base_uri": "https://localhost:8080/"
        },
        "id": "38KfnPPYPKTh",
        "outputId": "1012fba3-8346-407f-9a84-6d7543569ed5"
      },
      "execution_count": null,
      "outputs": [
        {
          "output_type": "stream",
          "name": "stdout",
          "text": [
            "time: 110 ms (started: 2023-03-20 22:02:22 +00:00)\n"
          ]
        }
      ]
    },
    {
      "cell_type": "markdown",
      "source": [
        "We will now model multiple regression models, the below are the models we are trying to use"
      ],
      "metadata": {
        "id": "51Buy6CAPPaz"
      }
    },
    {
      "cell_type": "code",
      "source": [
        "models = {'Linear': LinearRegression(),\n",
        "          'Logistic': LogisticRegression(),\n",
        "          'Ridge':Ridge(),\n",
        "          'Lasso':Lasso(), \n",
        "          'ElasticNet': ElasticNet(),\n",
        "          'Linear svr' : LinearSVR(),\n",
        "          'GBR': ensemble.GradientBoostingRegressor(),\n",
        "          'GBR tuned':ensemble.GradientBoostingRegressor(learning_rate=0.01, loss='absolute_error', max_depth=4,min_samples_split=2,n_estimators=500),\n",
        "          'Linear SVR': SVR(C= 10, epsilon= 0.3, gamma= 0.001, kernel= 'rbf')\n",
        "         }"
      ],
      "metadata": {
        "colab": {
          "base_uri": "https://localhost:8080/"
        },
        "id": "Mej1egp6PRzA",
        "outputId": "f28549a9-e4fd-4a95-ca07-77b8b2799d7e"
      },
      "execution_count": null,
      "outputs": [
        {
          "output_type": "stream",
          "name": "stdout",
          "text": [
            "time: 1.58 ms (started: 2023-03-20 22:02:26 +00:00)\n"
          ]
        }
      ]
    },
    {
      "cell_type": "code",
      "source": [
        "results_dict = {}\n",
        "for model_name, model in models.items(): \n",
        "    model.fit(X_train, y_train)\n",
        "    y_train_pred = model.predict(X_train)\n",
        "    y_test_pred = model.predict(X_test)\n",
        "    tr_mae = median_absolute_error(y_train, y_train_pred)\n",
        "    valid_mae = median_absolute_error(y_test, y_test_pred)\n",
        "    train_rmse = mean_squared_error(y_train,y_train_pred)**0.5\n",
        "    valid_rmse = mean_squared_error(y_test,y_test_pred)**0.5\n",
        "    #train_r2 = r2_score(y_train,y_train_pred)\n",
        "    results_dict[model_name] = [round(tr_mae,3), round(valid_mae,3), round(train_rmse,3), round(valid_rmse,3)]\n",
        "    \n",
        "\n",
        "results_df = pd.DataFrame(results_dict).T\n",
        "results_df.columns = [\"Train MAE\", \"Validation MAE\",\"Train RMSE\", \"Valid RMSE\"]\n",
        "results_df"
      ],
      "metadata": {
        "colab": {
          "base_uri": "https://localhost:8080/",
          "height": 487
        },
        "id": "ybEMd9DbPTz5",
        "outputId": "f540ac09-6091-432d-de3c-a831a634da3b"
      },
      "execution_count": null,
      "outputs": [
        {
          "output_type": "stream",
          "name": "stderr",
          "text": [
            "/usr/local/lib/python3.9/dist-packages/sklearn/linear_model/_logistic.py:458: ConvergenceWarning: lbfgs failed to converge (status=1):\n",
            "STOP: TOTAL NO. of ITERATIONS REACHED LIMIT.\n",
            "\n",
            "Increase the number of iterations (max_iter) or scale the data as shown in:\n",
            "    https://scikit-learn.org/stable/modules/preprocessing.html\n",
            "Please also refer to the documentation for alternative solver options:\n",
            "    https://scikit-learn.org/stable/modules/linear_model.html#logistic-regression\n",
            "  n_iter_i = _check_optimize_result(\n"
          ]
        },
        {
          "output_type": "execute_result",
          "data": {
            "text/plain": [
              "            Train MAE  Validation MAE  Train RMSE  Valid RMSE\n",
              "Linear         34.580          33.666      62.646      60.164\n",
              "Logistic       25.000          32.000      67.761      70.509\n",
              "Ridge          34.584          33.667      62.646      60.164\n",
              "Lasso          35.085          34.397      62.901      60.399\n",
              "ElasticNet     36.669          36.625      63.457      61.191\n",
              "Linear svr     30.076          30.456      65.172      63.658\n",
              "GBR            26.561          31.912      48.322      57.519\n",
              "GBR tuned      22.555          29.079      57.555      61.216\n",
              "Linear SVR     30.711          31.912      68.444      67.040"
            ],
            "text/html": [
              "\n",
              "  <div id=\"df-c5edc866-f436-4493-8732-70db66231f1f\">\n",
              "    <div class=\"colab-df-container\">\n",
              "      <div>\n",
              "<style scoped>\n",
              "    .dataframe tbody tr th:only-of-type {\n",
              "        vertical-align: middle;\n",
              "    }\n",
              "\n",
              "    .dataframe tbody tr th {\n",
              "        vertical-align: top;\n",
              "    }\n",
              "\n",
              "    .dataframe thead th {\n",
              "        text-align: right;\n",
              "    }\n",
              "</style>\n",
              "<table border=\"1\" class=\"dataframe\">\n",
              "  <thead>\n",
              "    <tr style=\"text-align: right;\">\n",
              "      <th></th>\n",
              "      <th>Train MAE</th>\n",
              "      <th>Validation MAE</th>\n",
              "      <th>Train RMSE</th>\n",
              "      <th>Valid RMSE</th>\n",
              "    </tr>\n",
              "  </thead>\n",
              "  <tbody>\n",
              "    <tr>\n",
              "      <th>Linear</th>\n",
              "      <td>34.580</td>\n",
              "      <td>33.666</td>\n",
              "      <td>62.646</td>\n",
              "      <td>60.164</td>\n",
              "    </tr>\n",
              "    <tr>\n",
              "      <th>Logistic</th>\n",
              "      <td>25.000</td>\n",
              "      <td>32.000</td>\n",
              "      <td>67.761</td>\n",
              "      <td>70.509</td>\n",
              "    </tr>\n",
              "    <tr>\n",
              "      <th>Ridge</th>\n",
              "      <td>34.584</td>\n",
              "      <td>33.667</td>\n",
              "      <td>62.646</td>\n",
              "      <td>60.164</td>\n",
              "    </tr>\n",
              "    <tr>\n",
              "      <th>Lasso</th>\n",
              "      <td>35.085</td>\n",
              "      <td>34.397</td>\n",
              "      <td>62.901</td>\n",
              "      <td>60.399</td>\n",
              "    </tr>\n",
              "    <tr>\n",
              "      <th>ElasticNet</th>\n",
              "      <td>36.669</td>\n",
              "      <td>36.625</td>\n",
              "      <td>63.457</td>\n",
              "      <td>61.191</td>\n",
              "    </tr>\n",
              "    <tr>\n",
              "      <th>Linear svr</th>\n",
              "      <td>30.076</td>\n",
              "      <td>30.456</td>\n",
              "      <td>65.172</td>\n",
              "      <td>63.658</td>\n",
              "    </tr>\n",
              "    <tr>\n",
              "      <th>GBR</th>\n",
              "      <td>26.561</td>\n",
              "      <td>31.912</td>\n",
              "      <td>48.322</td>\n",
              "      <td>57.519</td>\n",
              "    </tr>\n",
              "    <tr>\n",
              "      <th>GBR tuned</th>\n",
              "      <td>22.555</td>\n",
              "      <td>29.079</td>\n",
              "      <td>57.555</td>\n",
              "      <td>61.216</td>\n",
              "    </tr>\n",
              "    <tr>\n",
              "      <th>Linear SVR</th>\n",
              "      <td>30.711</td>\n",
              "      <td>31.912</td>\n",
              "      <td>68.444</td>\n",
              "      <td>67.040</td>\n",
              "    </tr>\n",
              "  </tbody>\n",
              "</table>\n",
              "</div>\n",
              "      <button class=\"colab-df-convert\" onclick=\"convertToInteractive('df-c5edc866-f436-4493-8732-70db66231f1f')\"\n",
              "              title=\"Convert this dataframe to an interactive table.\"\n",
              "              style=\"display:none;\">\n",
              "        \n",
              "  <svg xmlns=\"http://www.w3.org/2000/svg\" height=\"24px\"viewBox=\"0 0 24 24\"\n",
              "       width=\"24px\">\n",
              "    <path d=\"M0 0h24v24H0V0z\" fill=\"none\"/>\n",
              "    <path d=\"M18.56 5.44l.94 2.06.94-2.06 2.06-.94-2.06-.94-.94-2.06-.94 2.06-2.06.94zm-11 1L8.5 8.5l.94-2.06 2.06-.94-2.06-.94L8.5 2.5l-.94 2.06-2.06.94zm10 10l.94 2.06.94-2.06 2.06-.94-2.06-.94-.94-2.06-.94 2.06-2.06.94z\"/><path d=\"M17.41 7.96l-1.37-1.37c-.4-.4-.92-.59-1.43-.59-.52 0-1.04.2-1.43.59L10.3 9.45l-7.72 7.72c-.78.78-.78 2.05 0 2.83L4 21.41c.39.39.9.59 1.41.59.51 0 1.02-.2 1.41-.59l7.78-7.78 2.81-2.81c.8-.78.8-2.07 0-2.86zM5.41 20L4 18.59l7.72-7.72 1.47 1.35L5.41 20z\"/>\n",
              "  </svg>\n",
              "      </button>\n",
              "      \n",
              "  <style>\n",
              "    .colab-df-container {\n",
              "      display:flex;\n",
              "      flex-wrap:wrap;\n",
              "      gap: 12px;\n",
              "    }\n",
              "\n",
              "    .colab-df-convert {\n",
              "      background-color: #E8F0FE;\n",
              "      border: none;\n",
              "      border-radius: 50%;\n",
              "      cursor: pointer;\n",
              "      display: none;\n",
              "      fill: #1967D2;\n",
              "      height: 32px;\n",
              "      padding: 0 0 0 0;\n",
              "      width: 32px;\n",
              "    }\n",
              "\n",
              "    .colab-df-convert:hover {\n",
              "      background-color: #E2EBFA;\n",
              "      box-shadow: 0px 1px 2px rgba(60, 64, 67, 0.3), 0px 1px 3px 1px rgba(60, 64, 67, 0.15);\n",
              "      fill: #174EA6;\n",
              "    }\n",
              "\n",
              "    [theme=dark] .colab-df-convert {\n",
              "      background-color: #3B4455;\n",
              "      fill: #D2E3FC;\n",
              "    }\n",
              "\n",
              "    [theme=dark] .colab-df-convert:hover {\n",
              "      background-color: #434B5C;\n",
              "      box-shadow: 0px 1px 3px 1px rgba(0, 0, 0, 0.15);\n",
              "      filter: drop-shadow(0px 1px 2px rgba(0, 0, 0, 0.3));\n",
              "      fill: #FFFFFF;\n",
              "    }\n",
              "  </style>\n",
              "\n",
              "      <script>\n",
              "        const buttonEl =\n",
              "          document.querySelector('#df-c5edc866-f436-4493-8732-70db66231f1f button.colab-df-convert');\n",
              "        buttonEl.style.display =\n",
              "          google.colab.kernel.accessAllowed ? 'block' : 'none';\n",
              "\n",
              "        async function convertToInteractive(key) {\n",
              "          const element = document.querySelector('#df-c5edc866-f436-4493-8732-70db66231f1f');\n",
              "          const dataTable =\n",
              "            await google.colab.kernel.invokeFunction('convertToInteractive',\n",
              "                                                     [key], {});\n",
              "          if (!dataTable) return;\n",
              "\n",
              "          const docLinkHtml = 'Like what you see? Visit the ' +\n",
              "            '<a target=\"_blank\" href=https://colab.research.google.com/notebooks/data_table.ipynb>data table notebook</a>'\n",
              "            + ' to learn more about interactive tables.';\n",
              "          element.innerHTML = '';\n",
              "          dataTable['output_type'] = 'display_data';\n",
              "          await google.colab.output.renderOutput(dataTable, element);\n",
              "          const docLink = document.createElement('div');\n",
              "          docLink.innerHTML = docLinkHtml;\n",
              "          element.appendChild(docLink);\n",
              "        }\n",
              "      </script>\n",
              "    </div>\n",
              "  </div>\n",
              "  "
            ]
          },
          "metadata": {},
          "execution_count": 46
        },
        {
          "output_type": "stream",
          "name": "stdout",
          "text": [
            "time: 43.2 s (started: 2023-03-20 22:02:28 +00:00)\n"
          ]
        }
      ]
    },
    {
      "cell_type": "code",
      "source": [
        "results_df.plot.bar(rot=45, title=\"Model Comparison\",xlabel='Estimator',ylabel='Median Absolute Error');\n",
        "plt.figure(figsize=(15,15))\n",
        "plt.show();"
      ],
      "metadata": {
        "colab": {
          "base_uri": "https://localhost:8080/",
          "height": 366
        },
        "id": "NBE771kaPVv5",
        "outputId": "cc998f51-985d-4faa-fb61-05d990f5c3d2"
      },
      "execution_count": null,
      "outputs": [
        {
          "output_type": "display_data",
          "data": {
            "text/plain": [
              "<Figure size 432x288 with 1 Axes>"
            ],
            "image/png": "[encoded data removed]"
          },
          "metadata": {
            "needs_background": "light"
          }
        },
        {
          "output_type": "display_data",
          "data": {
            "text/plain": [
              "<Figure size 1080x1080 with 0 Axes>"
            ]
          },
          "metadata": {}
        },
        {
          "output_type": "stream",
          "name": "stdout",
          "text": [
            "time: 494 ms (started: 2023-03-20 22:03:18 +00:00)\n"
          ]
        }
      ]
    },
    {
      "cell_type": "markdown",
      "source": [
        "Looking at the graph we can say most of the models being able to predict the price with a median error around  between 25 to 35 dollars"
      ],
      "metadata": {
        "id": "edtVKH2cPX4A"
      }
    },
    {
      "cell_type": "markdown",
      "source": [
        "We have hypertuned the SVR and it has given us to use the below values (C= 10, epsilon= 0.3, gamma= 0.001, kernel= 'rbf')"
      ],
      "metadata": {
        "id": "YKVZUajTPZ_y"
      }
    },
    {
      "cell_type": "code",
      "source": [
        "model = SVR(C= 10, epsilon= 0.3, gamma= 0.001, kernel= 'rbf')\n",
        "model.fit(X_train, y_train)\n",
        "y_train_pred = model.predict(X_train)\n",
        "y_test_pred = model.predict(X_test)\n",
        "tr_mae = median_absolute_error(y_train, y_train_pred)\n",
        "valid_mae = median_absolute_error(y_test, y_test_pred)\n",
        "train_rmse = mean_squared_error(y_train,y_train_pred)**0.5\n",
        "valid_rmse = mean_squared_error(y_test,y_test_pred)**0.5        \n",
        "results_dict['SVR hypertuned'] = [round(tr_mae,3), round(valid_mae,3), round(train_rmse,3), round(valid_rmse,3)]\n",
        "    \n",
        "results_df = pd.DataFrame(results_dict).T\n",
        "results_df.columns = [\"Train MAE\", \"Validation MAE\",\"Train RMSE\",\"Validation RMSE\"]\n",
        "results_df"
      ],
      "metadata": {
        "colab": {
          "base_uri": "https://localhost:8080/",
          "height": 380
        },
        "id": "b0eJMSeYPayS",
        "outputId": "3ab279ca-3f78-46c7-97eb-ac596b983555"
      },
      "execution_count": null,
      "outputs": [
        {
          "output_type": "execute_result",
          "data": {
            "text/plain": [
              "                Train MAE  Validation MAE  Train RMSE  Validation RMSE\n",
              "Linear             34.580          33.666      62.646           60.164\n",
              "Logistic           25.000          32.000      67.761           70.509\n",
              "Ridge              34.584          33.667      62.646           60.164\n",
              "Lasso              35.085          34.397      62.901           60.399\n",
              "ElasticNet         36.669          36.625      63.457           61.191\n",
              "Linear svr         30.076          30.456      65.172           63.658\n",
              "GBR                26.561          31.912      48.322           57.519\n",
              "GBR tuned          22.555          29.079      57.555           61.216\n",
              "Linear SVR         30.711          31.912      68.444           67.040\n",
              "SVR hypertuned     30.711          31.912      68.444           67.040"
            ],
            "text/html": [
              "\n",
              "  <div id=\"df-4b0338c2-ca84-4d78-9160-a4258c591638\">\n",
              "    <div class=\"colab-df-container\">\n",
              "      <div>\n",
              "<style scoped>\n",
              "    .dataframe tbody tr th:only-of-type {\n",
              "        vertical-align: middle;\n",
              "    }\n",
              "\n",
              "    .dataframe tbody tr th {\n",
              "        vertical-align: top;\n",
              "    }\n",
              "\n",
              "    .dataframe thead th {\n",
              "        text-align: right;\n",
              "    }\n",
              "</style>\n",
              "<table border=\"1\" class=\"dataframe\">\n",
              "  <thead>\n",
              "    <tr style=\"text-align: right;\">\n",
              "      <th></th>\n",
              "      <th>Train MAE</th>\n",
              "      <th>Validation MAE</th>\n",
              "      <th>Train RMSE</th>\n",
              "      <th>Validation RMSE</th>\n",
              "    </tr>\n",
              "  </thead>\n",
              "  <tbody>\n",
              "    <tr>\n",
              "      <th>Linear</th>\n",
              "      <td>34.580</td>\n",
              "      <td>33.666</td>\n",
              "      <td>62.646</td>\n",
              "      <td>60.164</td>\n",
              "    </tr>\n",
              "    <tr>\n",
              "      <th>Logistic</th>\n",
              "      <td>25.000</td>\n",
              "      <td>32.000</td>\n",
              "      <td>67.761</td>\n",
              "      <td>70.509</td>\n",
              "    </tr>\n",
              "    <tr>\n",
              "      <th>Ridge</th>\n",
              "      <td>34.584</td>\n",
              "      <td>33.667</td>\n",
              "      <td>62.646</td>\n",
              "      <td>60.164</td>\n",
              "    </tr>\n",
              "    <tr>\n",
              "      <th>Lasso</th>\n",
              "      <td>35.085</td>\n",
              "      <td>34.397</td>\n",
              "      <td>62.901</td>\n",
              "      <td>60.399</td>\n",
              "    </tr>\n",
              "    <tr>\n",
              "      <th>ElasticNet</th>\n",
              "      <td>36.669</td>\n",
              "      <td>36.625</td>\n",
              "      <td>63.457</td>\n",
              "      <td>61.191</td>\n",
              "    </tr>\n",
              "    <tr>\n",
              "      <th>Linear svr</th>\n",
              "      <td>30.076</td>\n",
              "      <td>30.456</td>\n",
              "      <td>65.172</td>\n",
              "      <td>63.658</td>\n",
              "    </tr>\n",
              "    <tr>\n",
              "      <th>GBR</th>\n",
              "      <td>26.561</td>\n",
              "      <td>31.912</td>\n",
              "      <td>48.322</td>\n",
              "      <td>57.519</td>\n",
              "    </tr>\n",
              "    <tr>\n",
              "      <th>GBR tuned</th>\n",
              "      <td>22.555</td>\n",
              "      <td>29.079</td>\n",
              "      <td>57.555</td>\n",
              "      <td>61.216</td>\n",
              "    </tr>\n",
              "    <tr>\n",
              "      <th>Linear SVR</th>\n",
              "      <td>30.711</td>\n",
              "      <td>31.912</td>\n",
              "      <td>68.444</td>\n",
              "      <td>67.040</td>\n",
              "    </tr>\n",
              "    <tr>\n",
              "      <th>SVR hypertuned</th>\n",
              "      <td>30.711</td>\n",
              "      <td>31.912</td>\n",
              "      <td>68.444</td>\n",
              "      <td>67.040</td>\n",
              "    </tr>\n",
              "  </tbody>\n",
              "</table>\n",
              "</div>\n",
              "      <button class=\"colab-df-convert\" onclick=\"convertToInteractive('df-4b0338c2-ca84-4d78-9160-a4258c591638')\"\n",
              "              title=\"Convert this dataframe to an interactive table.\"\n",
              "              style=\"display:none;\">\n",
              "        \n",
              "  <svg xmlns=\"http://www.w3.org/2000/svg\" height=\"24px\"viewBox=\"0 0 24 24\"\n",
              "       width=\"24px\">\n",
              "    <path d=\"M0 0h24v24H0V0z\" fill=\"none\"/>\n",
              "    <path d=\"M18.56 5.44l.94 2.06.94-2.06 2.06-.94-2.06-.94-.94-2.06-.94 2.06-2.06.94zm-11 1L8.5 8.5l.94-2.06 2.06-.94-2.06-.94L8.5 2.5l-.94 2.06-2.06.94zm10 10l.94 2.06.94-2.06 2.06-.94-2.06-.94-.94-2.06-.94 2.06-2.06.94z\"/><path d=\"M17.41 7.96l-1.37-1.37c-.4-.4-.92-.59-1.43-.59-.52 0-1.04.2-1.43.59L10.3 9.45l-7.72 7.72c-.78.78-.78 2.05 0 2.83L4 21.41c.39.39.9.59 1.41.59.51 0 1.02-.2 1.41-.59l7.78-7.78 2.81-2.81c.8-.78.8-2.07 0-2.86zM5.41 20L4 18.59l7.72-7.72 1.47 1.35L5.41 20z\"/>\n",
              "  </svg>\n",
              "      </button>\n",
              "      \n",
              "  <style>\n",
              "    .colab-df-container {\n",
              "      display:flex;\n",
              "      flex-wrap:wrap;\n",
              "      gap: 12px;\n",
              "    }\n",
              "\n",
              "    .colab-df-convert {\n",
              "      background-color: #E8F0FE;\n",
              "      border: none;\n",
              "      border-radius: 50%;\n",
              "      cursor: pointer;\n",
              "      display: none;\n",
              "      fill: #1967D2;\n",
              "      height: 32px;\n",
              "      padding: 0 0 0 0;\n",
              "      width: 32px;\n",
              "    }\n",
              "\n",
              "    .colab-df-convert:hover {\n",
              "      background-color: #E2EBFA;\n",
              "      box-shadow: 0px 1px 2px rgba(60, 64, 67, 0.3), 0px 1px 3px 1px rgba(60, 64, 67, 0.15);\n",
              "      fill: #174EA6;\n",
              "    }\n",
              "\n",
              "    [theme=dark] .colab-df-convert {\n",
              "      background-color: #3B4455;\n",
              "      fill: #D2E3FC;\n",
              "    }\n",
              "\n",
              "    [theme=dark] .colab-df-convert:hover {\n",
              "      background-color: #434B5C;\n",
              "      box-shadow: 0px 1px 3px 1px rgba(0, 0, 0, 0.15);\n",
              "      filter: drop-shadow(0px 1px 2px rgba(0, 0, 0, 0.3));\n",
              "      fill: #FFFFFF;\n",
              "    }\n",
              "  </style>\n",
              "\n",
              "      <script>\n",
              "        const buttonEl =\n",
              "          document.querySelector('#df-4b0338c2-ca84-4d78-9160-a4258c591638 button.colab-df-convert');\n",
              "        buttonEl.style.display =\n",
              "          google.colab.kernel.accessAllowed ? 'block' : 'none';\n",
              "\n",
              "        async function convertToInteractive(key) {\n",
              "          const element = document.querySelector('#df-4b0338c2-ca84-4d78-9160-a4258c591638');\n",
              "          const dataTable =\n",
              "            await google.colab.kernel.invokeFunction('convertToInteractive',\n",
              "                                                     [key], {});\n",
              "          if (!dataTable) return;\n",
              "\n",
              "          const docLinkHtml = 'Like what you see? Visit the ' +\n",
              "            '<a target=\"_blank\" href=https://colab.research.google.com/notebooks/data_table.ipynb>data table notebook</a>'\n",
              "            + ' to learn more about interactive tables.';\n",
              "          element.innerHTML = '';\n",
              "          dataTable['output_type'] = 'display_data';\n",
              "          await google.colab.output.renderOutput(dataTable, element);\n",
              "          const docLink = document.createElement('div');\n",
              "          docLink.innerHTML = docLinkHtml;\n",
              "          element.appendChild(docLink);\n",
              "        }\n",
              "      </script>\n",
              "    </div>\n",
              "  </div>\n",
              "  "
            ]
          },
          "metadata": {},
          "execution_count": 48
        },
        {
          "output_type": "stream",
          "name": "stdout",
          "text": [
            "time: 1.15 s (started: 2023-03-20 22:03:23 +00:00)\n"
          ]
        }
      ]
    }
  ]
}